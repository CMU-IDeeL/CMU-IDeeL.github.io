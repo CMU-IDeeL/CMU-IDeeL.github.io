{
  "nbformat": 4,
  "nbformat_minor": 0,
  "metadata": {
    "colab": {
      "provenance": [],
      "collapsed_sections": [
        "tGWiVxQ_yVGU",
        "rHEOiUt4zIem",
        "qAxPO-ZbdtYy",
        "JydHA8FwENPU",
        "8RLIqlS414jy",
        "vJTWfL0oQVTI",
        "DYwCVvd5fH0X",
        "QKCwwysQikFg",
        "Nk8lAJaDbXPk",
        "hoRxjFPQ1-3c",
        "zrXHiqqjjs5Z",
        "2WRL_nYJjbly",
        "PhqJu0X0oNq5",
        "z1Z-UW5YlIVw",
        "6VwuLReblSa2",
        "dswssv_0lbBr",
        "7xecbpqnlmFa",
        "240fbEdgl1GX",
        "HOzYfvRJl-f7",
        "fObEmyzvdrd-",
        "BVTiiUdAdvQQ",
        "-Is8YIsupWae",
        "EMq9qVhHe2Y0",
        "bszL3lt713jo",
        "Nbt7xBpc0G13",
        "qj_EAA340XRR",
        "T7qp_gRx5ibt",
        "DgVv3BdB4w6S",
        "Qt8ybuYmsg9j"
      ],
      "toc_visible": true
    },
    "kernelspec": {
      "name": "python3",
      "display_name": "Python 3"
    },
    "language_info": {
      "name": "python"
    }
  },
  "cells": [
    {
      "cell_type": "markdown",
      "source": [
        "# Recitation 0.1 - Part 1: Python Fundamentals\n",
        "\n",
        "\n",
        "\n",
        "\n",
        "--\n",
        "\n",
        "\n",
        "\n",
        "\n",
        "\n",
        "\n",
        "TA: Ishita Gupta (ishitag@cs.cmu.edu)\n"
      ],
      "metadata": {
        "id": "_8nH3ae43wxn"
      }
    },
    {
      "cell_type": "markdown",
      "source": [
        "# Table of Contents:\n",
        "\n",
        "In this session, we will build a strong foundation in Python programming, especially if you are new to it.\n"
      ],
      "metadata": {
        "id": "tGWiVxQ_yVGU"
      }
    },
    {
      "cell_type": "markdown",
      "source": [
        "1. Why Python?\n",
        "\n",
        "**Python Setup**\n",
        "2. Execution of Python Code\n",
        "3. Downloading Python\n",
        "4. Installing Libraries\n",
        "\n",
        "**Basic Syntax**\n",
        "5. Indentation\n",
        "6. Comments\n",
        "7. Importing Modules\n",
        "8. Data Types\n",
        "\n",
        "**Data Structures & Functions**\n",
        "9. Data Structures\n",
        "10. Conditional Statements\n",
        "11. Loops\n",
        "12. Functions and Arguments\n",
        "13. Classes\n",
        "14. Error Handling\n",
        "15. File System"
      ],
      "metadata": {
        "id": "3kDfbYkOIMdK"
      }
    },
    {
      "cell_type": "markdown",
      "source": [
        "## Why Python?\n",
        "\n",
        "\n",
        "\n"
      ],
      "metadata": {
        "id": "rHEOiUt4zIem"
      }
    },
    {
      "cell_type": "markdown",
      "source": [
        ">  Almost all Deep Learning code in both **industry** and **academia** is written in Python!\n",
        "\n",
        "That alone is a great reason to master it :-) but here’s more:\n",
        "\n",
        "- **Simple & Readable**\n",
        "- **Massive ecosystem** of libraries and frameworks.\n",
        "- **Great community support**\n",
        "\n",
        "\n",
        "For this course, you'll use Python across all homeworks. So it's crucial that every student is comfortable with the language and can write clean, working code"
      ],
      "metadata": {
        "id": "CaLSPaTKIH1o"
      }
    },
    {
      "cell_type": "markdown",
      "source": [
        "## How Python runs:\n"
      ],
      "metadata": {
        "id": "JydHA8FwENPU"
      }
    },
    {
      "cell_type": "markdown",
      "source": [
        "- Python is an **interpreted** language. This means it executes code line by line.\n",
        "\n",
        "- Python code can be written in standalone scripts (files with a `.py` extension) or interactive notebooks (ending in a `.ipynb` extension).\n"
      ],
      "metadata": {
        "id": "eh8zDlTCE1n3"
      }
    },
    {
      "cell_type": "markdown",
      "source": [
        "###**Note 📝:**\n",
        "> You can write and run Python code in various environments:\n",
        "> - IDEs like VSCode & PyCharm\n",
        "> - Text editors like Sublime Text\n",
        "> - Browser based platforms like Google Colab or Jupyter Notebooks\n",
        ">\n",
        "> For this tutorial, we are using **Google Colab**.\n",
        "\n"
      ],
      "metadata": {
        "id": "-72Vb6zhejuo"
      }
    },
    {
      "cell_type": "markdown",
      "source": [
        "## Downloading Python 🔽\n",
        "\n",
        "\n",
        "\n",
        "\n",
        "\n"
      ],
      "metadata": {
        "id": "8RLIqlS414jy"
      }
    },
    {
      "cell_type": "markdown",
      "source": [
        "- You can download python from this website: https://www.python.org/downloads\n",
        "- All modern scripts and this course use Python 3. So versions of Python go by 3.x\n",
        "\n",
        "Once installed, you can use the `pip` tool to install packages.\n"
      ],
      "metadata": {
        "id": "I8dY9iJzE7kN"
      }
    },
    {
      "cell_type": "markdown",
      "source": [
        "## Installing Libraries"
      ],
      "metadata": {
        "id": "FfOHlP5aE-RE"
      }
    },
    {
      "cell_type": "markdown",
      "source": [
        "### pip\n",
        "\n",
        "```bash\n",
        "pip install package_name\n",
        "```\n",
        "\n",
        "\n",
        "pip is Python’s package manager. It helps you:\n",
        "- Find and download code written by others\n",
        "- Install that code into your environment\n",
        "- Keep it up to date\n",
        "\n",
        "pip stands for “Pip Installs Packages”\n"
      ],
      "metadata": {
        "id": "vJTWfL0oQVTI"
      }
    },
    {
      "cell_type": "code",
      "source": [
        "!pip install numpy==2.0.2"
      ],
      "metadata": {
        "id": "2suNrUNoQV67",
        "colab": {
          "base_uri": "https://localhost:8080/"
        },
        "collapsed": true,
        "outputId": "28cbb0c5-56aa-4b56-919b-e47a99fe2cbc"
      },
      "execution_count": null,
      "outputs": [
        {
          "output_type": "stream",
          "name": "stdout",
          "text": [
            "Requirement already satisfied: numpy==2.0.2 in /usr/local/lib/python3.11/dist-packages (2.0.2)\n"
          ]
        }
      ]
    },
    {
      "cell_type": "code",
      "source": [
        "!pip install matplotlib pandas torch torchvision"
      ],
      "metadata": {
        "id": "5gWYQM1AQ1kg",
        "colab": {
          "base_uri": "https://localhost:8080/"
        },
        "outputId": "f107ac5b-2f26-41a0-c4c0-8da424b0097a"
      },
      "execution_count": null,
      "outputs": [
        {
          "output_type": "stream",
          "name": "stdout",
          "text": [
            "Requirement already satisfied: matplotlib in /usr/local/lib/python3.11/dist-packages (3.10.0)\n",
            "Requirement already satisfied: pandas in /usr/local/lib/python3.11/dist-packages (2.2.2)\n",
            "Requirement already satisfied: torch in /usr/local/lib/python3.11/dist-packages (2.6.0+cu124)\n",
            "Requirement already satisfied: torchvision in /usr/local/lib/python3.11/dist-packages (0.21.0+cu124)\n",
            "Requirement already satisfied: contourpy>=1.0.1 in /usr/local/lib/python3.11/dist-packages (from matplotlib) (1.3.2)\n",
            "Requirement already satisfied: cycler>=0.10 in /usr/local/lib/python3.11/dist-packages (from matplotlib) (0.12.1)\n",
            "Requirement already satisfied: fonttools>=4.22.0 in /usr/local/lib/python3.11/dist-packages (from matplotlib) (4.58.5)\n",
            "Requirement already satisfied: kiwisolver>=1.3.1 in /usr/local/lib/python3.11/dist-packages (from matplotlib) (1.4.8)\n",
            "Requirement already satisfied: numpy>=1.23 in /usr/local/lib/python3.11/dist-packages (from matplotlib) (2.0.2)\n",
            "Requirement already satisfied: packaging>=20.0 in /usr/local/lib/python3.11/dist-packages (from matplotlib) (24.2)\n",
            "Requirement already satisfied: pillow>=8 in /usr/local/lib/python3.11/dist-packages (from matplotlib) (11.2.1)\n",
            "Requirement already satisfied: pyparsing>=2.3.1 in /usr/local/lib/python3.11/dist-packages (from matplotlib) (3.2.3)\n",
            "Requirement already satisfied: python-dateutil>=2.7 in /usr/local/lib/python3.11/dist-packages (from matplotlib) (2.9.0.post0)\n",
            "Requirement already satisfied: pytz>=2020.1 in /usr/local/lib/python3.11/dist-packages (from pandas) (2025.2)\n",
            "Requirement already satisfied: tzdata>=2022.7 in /usr/local/lib/python3.11/dist-packages (from pandas) (2025.2)\n",
            "Requirement already satisfied: filelock in /usr/local/lib/python3.11/dist-packages (from torch) (3.18.0)\n",
            "Requirement already satisfied: typing-extensions>=4.10.0 in /usr/local/lib/python3.11/dist-packages (from torch) (4.14.1)\n",
            "Requirement already satisfied: networkx in /usr/local/lib/python3.11/dist-packages (from torch) (3.5)\n",
            "Requirement already satisfied: jinja2 in /usr/local/lib/python3.11/dist-packages (from torch) (3.1.6)\n",
            "Requirement already satisfied: fsspec in /usr/local/lib/python3.11/dist-packages (from torch) (2025.3.2)\n",
            "Collecting nvidia-cuda-nvrtc-cu12==12.4.127 (from torch)\n",
            "  Using cached nvidia_cuda_nvrtc_cu12-12.4.127-py3-none-manylinux2014_x86_64.whl.metadata (1.5 kB)\n",
            "Collecting nvidia-cuda-runtime-cu12==12.4.127 (from torch)\n",
            "  Using cached nvidia_cuda_runtime_cu12-12.4.127-py3-none-manylinux2014_x86_64.whl.metadata (1.5 kB)\n",
            "Collecting nvidia-cuda-cupti-cu12==12.4.127 (from torch)\n",
            "  Using cached nvidia_cuda_cupti_cu12-12.4.127-py3-none-manylinux2014_x86_64.whl.metadata (1.6 kB)\n",
            "Collecting nvidia-cudnn-cu12==9.1.0.70 (from torch)\n",
            "  Using cached nvidia_cudnn_cu12-9.1.0.70-py3-none-manylinux2014_x86_64.whl.metadata (1.6 kB)\n",
            "Collecting nvidia-cublas-cu12==12.4.5.8 (from torch)\n",
            "  Using cached nvidia_cublas_cu12-12.4.5.8-py3-none-manylinux2014_x86_64.whl.metadata (1.5 kB)\n",
            "Collecting nvidia-cufft-cu12==11.2.1.3 (from torch)\n",
            "  Using cached nvidia_cufft_cu12-11.2.1.3-py3-none-manylinux2014_x86_64.whl.metadata (1.5 kB)\n",
            "Collecting nvidia-curand-cu12==10.3.5.147 (from torch)\n",
            "  Using cached nvidia_curand_cu12-10.3.5.147-py3-none-manylinux2014_x86_64.whl.metadata (1.5 kB)\n",
            "Collecting nvidia-cusolver-cu12==11.6.1.9 (from torch)\n",
            "  Using cached nvidia_cusolver_cu12-11.6.1.9-py3-none-manylinux2014_x86_64.whl.metadata (1.6 kB)\n",
            "Collecting nvidia-cusparse-cu12==12.3.1.170 (from torch)\n",
            "  Using cached nvidia_cusparse_cu12-12.3.1.170-py3-none-manylinux2014_x86_64.whl.metadata (1.6 kB)\n",
            "Requirement already satisfied: nvidia-cusparselt-cu12==0.6.2 in /usr/local/lib/python3.11/dist-packages (from torch) (0.6.2)\n",
            "Requirement already satisfied: nvidia-nccl-cu12==2.21.5 in /usr/local/lib/python3.11/dist-packages (from torch) (2.21.5)\n",
            "Requirement already satisfied: nvidia-nvtx-cu12==12.4.127 in /usr/local/lib/python3.11/dist-packages (from torch) (12.4.127)\n",
            "Collecting nvidia-nvjitlink-cu12==12.4.127 (from torch)\n",
            "  Using cached nvidia_nvjitlink_cu12-12.4.127-py3-none-manylinux2014_x86_64.whl.metadata (1.5 kB)\n",
            "Requirement already satisfied: triton==3.2.0 in /usr/local/lib/python3.11/dist-packages (from torch) (3.2.0)\n",
            "Requirement already satisfied: sympy==1.13.1 in /usr/local/lib/python3.11/dist-packages (from torch) (1.13.1)\n",
            "Requirement already satisfied: mpmath<1.4,>=1.1.0 in /usr/local/lib/python3.11/dist-packages (from sympy==1.13.1->torch) (1.3.0)\n",
            "Requirement already satisfied: six>=1.5 in /usr/local/lib/python3.11/dist-packages (from python-dateutil>=2.7->matplotlib) (1.17.0)\n",
            "Requirement already satisfied: MarkupSafe>=2.0 in /usr/local/lib/python3.11/dist-packages (from jinja2->torch) (3.0.2)\n",
            "Using cached nvidia_cublas_cu12-12.4.5.8-py3-none-manylinux2014_x86_64.whl (363.4 MB)\n",
            "Using cached nvidia_cuda_cupti_cu12-12.4.127-py3-none-manylinux2014_x86_64.whl (13.8 MB)\n",
            "Using cached nvidia_cuda_nvrtc_cu12-12.4.127-py3-none-manylinux2014_x86_64.whl (24.6 MB)\n",
            "Using cached nvidia_cuda_runtime_cu12-12.4.127-py3-none-manylinux2014_x86_64.whl (883 kB)\n",
            "Using cached nvidia_cudnn_cu12-9.1.0.70-py3-none-manylinux2014_x86_64.whl (664.8 MB)\n",
            "Using cached nvidia_cufft_cu12-11.2.1.3-py3-none-manylinux2014_x86_64.whl (211.5 MB)\n",
            "Using cached nvidia_curand_cu12-10.3.5.147-py3-none-manylinux2014_x86_64.whl (56.3 MB)\n",
            "Using cached nvidia_cusolver_cu12-11.6.1.9-py3-none-manylinux2014_x86_64.whl (127.9 MB)\n",
            "Using cached nvidia_cusparse_cu12-12.3.1.170-py3-none-manylinux2014_x86_64.whl (207.5 MB)\n",
            "Using cached nvidia_nvjitlink_cu12-12.4.127-py3-none-manylinux2014_x86_64.whl (21.1 MB)\n",
            "Installing collected packages: nvidia-nvjitlink-cu12, nvidia-curand-cu12, nvidia-cufft-cu12, nvidia-cuda-runtime-cu12, nvidia-cuda-nvrtc-cu12, nvidia-cuda-cupti-cu12, nvidia-cublas-cu12, nvidia-cusparse-cu12, nvidia-cudnn-cu12, nvidia-cusolver-cu12\n",
            "  Attempting uninstall: nvidia-nvjitlink-cu12\n",
            "    Found existing installation: nvidia-nvjitlink-cu12 12.5.82\n",
            "    Uninstalling nvidia-nvjitlink-cu12-12.5.82:\n",
            "      Successfully uninstalled nvidia-nvjitlink-cu12-12.5.82\n",
            "  Attempting uninstall: nvidia-curand-cu12\n",
            "    Found existing installation: nvidia-curand-cu12 10.3.6.82\n",
            "    Uninstalling nvidia-curand-cu12-10.3.6.82:\n",
            "      Successfully uninstalled nvidia-curand-cu12-10.3.6.82\n",
            "  Attempting uninstall: nvidia-cufft-cu12\n",
            "    Found existing installation: nvidia-cufft-cu12 11.2.3.61\n",
            "    Uninstalling nvidia-cufft-cu12-11.2.3.61:\n",
            "      Successfully uninstalled nvidia-cufft-cu12-11.2.3.61\n",
            "  Attempting uninstall: nvidia-cuda-runtime-cu12\n",
            "    Found existing installation: nvidia-cuda-runtime-cu12 12.5.82\n",
            "    Uninstalling nvidia-cuda-runtime-cu12-12.5.82:\n",
            "      Successfully uninstalled nvidia-cuda-runtime-cu12-12.5.82\n",
            "  Attempting uninstall: nvidia-cuda-nvrtc-cu12\n",
            "    Found existing installation: nvidia-cuda-nvrtc-cu12 12.5.82\n",
            "    Uninstalling nvidia-cuda-nvrtc-cu12-12.5.82:\n",
            "      Successfully uninstalled nvidia-cuda-nvrtc-cu12-12.5.82\n",
            "  Attempting uninstall: nvidia-cuda-cupti-cu12\n",
            "    Found existing installation: nvidia-cuda-cupti-cu12 12.5.82\n",
            "    Uninstalling nvidia-cuda-cupti-cu12-12.5.82:\n",
            "      Successfully uninstalled nvidia-cuda-cupti-cu12-12.5.82\n",
            "  Attempting uninstall: nvidia-cublas-cu12\n",
            "    Found existing installation: nvidia-cublas-cu12 12.5.3.2\n",
            "    Uninstalling nvidia-cublas-cu12-12.5.3.2:\n",
            "      Successfully uninstalled nvidia-cublas-cu12-12.5.3.2\n",
            "  Attempting uninstall: nvidia-cusparse-cu12\n",
            "    Found existing installation: nvidia-cusparse-cu12 12.5.1.3\n",
            "    Uninstalling nvidia-cusparse-cu12-12.5.1.3:\n",
            "      Successfully uninstalled nvidia-cusparse-cu12-12.5.1.3\n",
            "  Attempting uninstall: nvidia-cudnn-cu12\n",
            "    Found existing installation: nvidia-cudnn-cu12 9.3.0.75\n",
            "    Uninstalling nvidia-cudnn-cu12-9.3.0.75:\n",
            "      Successfully uninstalled nvidia-cudnn-cu12-9.3.0.75\n",
            "  Attempting uninstall: nvidia-cusolver-cu12\n",
            "    Found existing installation: nvidia-cusolver-cu12 11.6.3.83\n",
            "    Uninstalling nvidia-cusolver-cu12-11.6.3.83:\n",
            "      Successfully uninstalled nvidia-cusolver-cu12-11.6.3.83\n",
            "Successfully installed nvidia-cublas-cu12-12.4.5.8 nvidia-cuda-cupti-cu12-12.4.127 nvidia-cuda-nvrtc-cu12-12.4.127 nvidia-cuda-runtime-cu12-12.4.127 nvidia-cudnn-cu12-9.1.0.70 nvidia-cufft-cu12-11.2.1.3 nvidia-curand-cu12-10.3.5.147 nvidia-cusolver-cu12-11.6.1.9 nvidia-cusparse-cu12-12.3.1.170 nvidia-nvjitlink-cu12-12.4.127\n"
          ]
        }
      ]
    },
    {
      "cell_type": "markdown",
      "source": [
        "## Indentation in Python\n",
        "\n",
        "Python uses *indentation* (spaces or tabs) to define blocks of code."
      ],
      "metadata": {
        "id": "DYwCVvd5fH0X"
      }
    },
    {
      "cell_type": "code",
      "source": [
        "if True:\n",
        "    print(\"This block is indented correctly\")\n",
        "    print(\"Both lines belong to the if block\")"
      ],
      "metadata": {
        "id": "bF2lKlmzf9bb",
        "colab": {
          "base_uri": "https://localhost:8080/"
        },
        "outputId": "476d7441-427d-41a0-ff4a-7d65b4bd7320"
      },
      "execution_count": null,
      "outputs": [
        {
          "output_type": "stream",
          "name": "stdout",
          "text": [
            "This block is indented correctly\n",
            "Both lines belong to the if block\n"
          ]
        }
      ]
    },
    {
      "cell_type": "markdown",
      "source": [
        "## Comments in Python\n",
        "Comments are used to explain code and are ignored by the interpreter."
      ],
      "metadata": {
        "id": "QKCwwysQikFg"
      }
    },
    {
      "cell_type": "code",
      "source": [
        "# This is a comment\n",
        "\n",
        "\"\"\"\n",
        "This is a multi-line comment\n",
        "or docstring in Python\n",
        "\"\"\"\n",
        "print(\"This is executed :D\")"
      ],
      "metadata": {
        "id": "JNtgDYuFin6-",
        "colab": {
          "base_uri": "https://localhost:8080/"
        },
        "outputId": "0b58f6c7-b78a-4fdd-c855-994682055ab4"
      },
      "execution_count": null,
      "outputs": [
        {
          "output_type": "stream",
          "name": "stdout",
          "text": [
            "This is executed :D\n"
          ]
        }
      ]
    },
    {
      "cell_type": "markdown",
      "source": [
        "## Importing Modules\n",
        "In Python, we use the `import` statement to bring in external modules or libraries.\n",
        "Modules help us avoid rewriting code and give access to many useful tools.\n"
      ],
      "metadata": {
        "id": "Nk8lAJaDbXPk"
      }
    },
    {
      "cell_type": "code",
      "source": [
        "import math\n",
        "print(\"Square root of 16 is:\", math.sqrt(16))"
      ],
      "metadata": {
        "id": "uG0x3UfhkRzc",
        "colab": {
          "base_uri": "https://localhost:8080/"
        },
        "outputId": "7909bdc8-26aa-44c4-c9ac-f6133b962495"
      },
      "execution_count": null,
      "outputs": [
        {
          "output_type": "stream",
          "name": "stdout",
          "text": [
            "Square root of 16 is: 4.0\n"
          ]
        }
      ]
    },
    {
      "cell_type": "markdown",
      "source": [
        "A library is a collection of modules.\n",
        "Here is how we can import some popular libraries:"
      ],
      "metadata": {
        "id": "cEtKuFTkkUHF"
      }
    },
    {
      "cell_type": "code",
      "source": [
        "import numpy as np              # For numerical operations\n",
        "import matplotlib.pyplot as plt # For plotting\n",
        "import torch                    # Core deep learning library\n",
        "import os                       # For file operations\n",
        "import time                     # For timing experiments"
      ],
      "metadata": {
        "id": "ydGPlCVFbKwS"
      },
      "execution_count": null,
      "outputs": []
    },
    {
      "cell_type": "markdown",
      "source": [
        "We'll introduce how to use these libraries in the upcoming recitations! 😀"
      ],
      "metadata": {
        "id": "HC6Ypaqucyts"
      }
    },
    {
      "cell_type": "markdown",
      "source": [
        "## Data types\n"
      ],
      "metadata": {
        "id": "hoRxjFPQ1-3c"
      }
    },
    {
      "cell_type": "markdown",
      "source": [
        "Python is **dynamically typed**, meaning you don't need to declare variable types explicitly and the type is actually inferred at runtime."
      ],
      "metadata": {
        "id": "-7TW-iu7UTP8"
      }
    },
    {
      "cell_type": "code",
      "source": [
        "x = 5       # int\n",
        "print(x)\n",
        "x = 5.0     # now a float\n",
        "print(x)\n",
        "x = 'five'  # now a string\n",
        "print(x)"
      ],
      "metadata": {
        "id": "atc-uUgvaVm8",
        "colab": {
          "base_uri": "https://localhost:8080/"
        },
        "outputId": "dad4bf93-a981-4faf-a7c1-70b432f09a87"
      },
      "execution_count": null,
      "outputs": [
        {
          "output_type": "stream",
          "name": "stdout",
          "text": [
            "5\n",
            "5.0\n",
            "five\n"
          ]
        }
      ]
    },
    {
      "cell_type": "markdown",
      "source": [
        "You can do arithmetic using Python operators."
      ],
      "metadata": {
        "id": "oZPwFyg8j9_l"
      }
    },
    {
      "cell_type": "code",
      "source": [
        "x = 10\n",
        "y = 3\n",
        "print(\"Addition:\", x + y)\n",
        "print(\"Division:\", x / y)\n",
        "print(\"Floor Division:\", x // y)\n",
        "print(\"Power:\", x ** y)"
      ],
      "metadata": {
        "id": "cfF27-OkjxHe",
        "collapsed": true,
        "colab": {
          "base_uri": "https://localhost:8080/"
        },
        "outputId": "ec832cfd-ce9b-4db2-8f8d-9f70d3c272cc"
      },
      "execution_count": null,
      "outputs": [
        {
          "output_type": "stream",
          "name": "stdout",
          "text": [
            "Addition: 13\n",
            "Division: 3.3333333333333335\n",
            "Floor Division: 3\n",
            "Power: 1000\n"
          ]
        }
      ]
    },
    {
      "cell_type": "markdown",
      "source": [
        "### Booleans and Logical Operations\n",
        "\n",
        "In Python, `bool` is a data type that can have one of two values: `True` or `False`.  "
      ],
      "metadata": {
        "id": "2WRL_nYJjbly"
      }
    },
    {
      "cell_type": "code",
      "source": [
        "flag = True\n",
        "print(\"Boolean:\", flag, \"| Type:\", type(flag))"
      ],
      "metadata": {
        "id": "jgFS1IfVgKt4",
        "colab": {
          "base_uri": "https://localhost:8080/"
        },
        "outputId": "1b050a1d-df8a-4421-8605-26a0ff4745c3"
      },
      "execution_count": null,
      "outputs": [
        {
          "output_type": "stream",
          "name": "stdout",
          "text": [
            "Boolean: True | Type: <class 'bool'>\n"
          ]
        }
      ]
    },
    {
      "cell_type": "markdown",
      "source": [
        "You can perform logical operations using:\n",
        "- `and`: True if both operands are True\n",
        "- `or`: True if at least one operand is True\n",
        "- `not`: Inverts the boolean value\n",
        "\n",
        "These are useful in `if` statements, loops, and filtering logic."
      ],
      "metadata": {
        "id": "rhm8mC4B8MxI"
      }
    },
    {
      "cell_type": "code",
      "source": [
        "a = True\n",
        "b = False\n",
        "print(\"AND:\", a and b)\n",
        "print(\"OR:\", a or b)\n",
        "print(\"NOT:\", not a)"
      ],
      "metadata": {
        "id": "aQQVRUOhjgDM",
        "colab": {
          "base_uri": "https://localhost:8080/"
        },
        "outputId": "cd710879-c12c-48ee-e204-9dba65da5507"
      },
      "execution_count": null,
      "outputs": [
        {
          "output_type": "stream",
          "name": "stdout",
          "text": [
            "AND: False\n",
            "OR: True\n",
            "NOT: False\n"
          ]
        }
      ]
    },
    {
      "cell_type": "markdown",
      "source": [
        "### Strings\n",
        "\n"
      ],
      "metadata": {
        "id": "PhqJu0X0oNq5"
      }
    },
    {
      "cell_type": "markdown",
      "source": [
        "Strings are sequences of characters. You can:\n",
        "- Concatenate with `+`\n",
        "- Repeat using `*`\n",
        "- Use string methods like `.lower()`, `.upper()`, `.strip()`, `.split()`, etc.\n",
        "\n",
        "Strings are immutable, meaning they cannot be changed in place."
      ],
      "metadata": {
        "id": "6_5Wn_E9QRLr"
      }
    },
    {
      "cell_type": "code",
      "source": [
        "text = \"  Hello, Python!  \"\n",
        "print(\"Original:\", text)\n",
        "print(\"Lowercase:\", text.lower())\n",
        "print(\"Uppercase:\", text.upper())\n",
        "print(\"Stripped:\", text.strip())\n",
        "print(\"Split:\", text.split(\", \"))"
      ],
      "metadata": {
        "id": "Y0UFJ_jKgSTS",
        "colab": {
          "base_uri": "https://localhost:8080/"
        },
        "outputId": "612ff187-744f-4f95-b942-cf7b0ab8b294"
      },
      "execution_count": null,
      "outputs": [
        {
          "output_type": "stream",
          "name": "stdout",
          "text": [
            "Original:   Hello, Python!  \n",
            "Lowercase:   hello, python!  \n",
            "Uppercase:   HELLO, PYTHON!  \n",
            "Stripped: Hello, Python!\n",
            "Split: ['  Hello', 'Python!  ']\n"
          ]
        }
      ]
    },
    {
      "cell_type": "markdown",
      "source": [
        "## Data Structures\n",
        "\n",
        "Python has 4 types of Data Structures:\n",
        "\n",
        "- List\n",
        "- Tuple\n",
        "- Dictionary\n",
        "- Set"
      ],
      "metadata": {
        "id": "mKjayk29gZa2"
      }
    },
    {
      "cell_type": "markdown",
      "source": [
        "### List (mutable)\n",
        "\n",
        "Lists are used to store multiple items (collection of data) in a single variable.\n",
        "\n",
        "List items are ordered, changeable, and allow duplicate values.\n",
        "\n",
        "Lists are created using square brackets:"
      ],
      "metadata": {
        "id": "z1Z-UW5YlIVw"
      }
    },
    {
      "cell_type": "code",
      "source": [
        "fruits = [\"apple\", \"banana\", \"cherry\"]\n",
        "fruits.append(\"mango\")\n",
        "print(fruits)"
      ],
      "metadata": {
        "id": "KtXuCI4YgeO8",
        "colab": {
          "base_uri": "https://localhost:8080/"
        },
        "outputId": "b9138ec2-33a0-4fb2-a02e-420ba96aa5a3"
      },
      "execution_count": null,
      "outputs": [
        {
          "output_type": "stream",
          "name": "stdout",
          "text": [
            "['apple', 'banana', 'cherry', 'mango']\n"
          ]
        }
      ]
    },
    {
      "cell_type": "code",
      "source": [
        "print(type(fruits))"
      ],
      "metadata": {
        "id": "YutETGdsoumn",
        "colab": {
          "base_uri": "https://localhost:8080/"
        },
        "outputId": "8a07610a-9652-443f-8728-7b4f77de8bc0"
      },
      "execution_count": null,
      "outputs": [
        {
          "output_type": "stream",
          "name": "stdout",
          "text": [
            "<class 'list'>\n"
          ]
        }
      ]
    },
    {
      "cell_type": "markdown",
      "source": [
        "**Note**\n",
        "> `print()` and `type()` are some built-in functions in Python. You'll find yourself using them often while debugging your neural networks.\n",
        "\n",
        "We'll also see a few more of these handy functions later in the notebook!"
      ],
      "metadata": {
        "id": "yn3CpCTrw0iP"
      }
    },
    {
      "cell_type": "markdown",
      "source": [
        "### Tuple (immutable)\n",
        "\n",
        "A tuple is a collection which is ordered and unchangeable."
      ],
      "metadata": {
        "id": "6VwuLReblSa2"
      }
    },
    {
      "cell_type": "code",
      "source": [
        "coords = (10, 20)\n",
        "print(\"Tuple:\", coords)"
      ],
      "metadata": {
        "id": "FZjkZuG6giZp",
        "colab": {
          "base_uri": "https://localhost:8080/"
        },
        "outputId": "73ec6ed6-c8a2-482e-db11-c2e727464b85"
      },
      "execution_count": null,
      "outputs": [
        {
          "output_type": "stream",
          "name": "stdout",
          "text": [
            "Tuple: (10, 20)\n"
          ]
        }
      ]
    },
    {
      "cell_type": "markdown",
      "source": [
        "Below assignment is invalid as tuples in python are immutable."
      ],
      "metadata": {
        "id": "DkcnJtamgmN3"
      }
    },
    {
      "cell_type": "code",
      "source": [
        "coords[0] = 5"
      ],
      "metadata": {
        "id": "-ISNqq0Ygqqb",
        "colab": {
          "base_uri": "https://localhost:8080/",
          "height": 144
        },
        "outputId": "950e6319-5c23-4fc8-f4f3-0c5c1c47ba4a"
      },
      "execution_count": null,
      "outputs": [
        {
          "output_type": "error",
          "ename": "TypeError",
          "evalue": "'tuple' object does not support item assignment",
          "traceback": [
            "\u001b[0;31m---------------------------------------------------------------------------\u001b[0m",
            "\u001b[0;31mTypeError\u001b[0m                                 Traceback (most recent call last)",
            "\u001b[0;32m/tmp/ipython-input-18-2946511560.py\u001b[0m in \u001b[0;36m<cell line: 0>\u001b[0;34m()\u001b[0m\n\u001b[0;32m----> 1\u001b[0;31m \u001b[0mcoords\u001b[0m\u001b[0;34m[\u001b[0m\u001b[0;36m0\u001b[0m\u001b[0;34m]\u001b[0m \u001b[0;34m=\u001b[0m \u001b[0;36m5\u001b[0m\u001b[0;34m\u001b[0m\u001b[0;34m\u001b[0m\u001b[0m\n\u001b[0m",
            "\u001b[0;31mTypeError\u001b[0m: 'tuple' object does not support item assignment"
          ]
        }
      ]
    },
    {
      "cell_type": "markdown",
      "source": [
        "### Dictionaries\n",
        "Dictionaries are data structures that use key-value pairs to store data.\n",
        "\n"
      ],
      "metadata": {
        "id": "dswssv_0lbBr"
      }
    },
    {
      "cell_type": "code",
      "source": [
        "student = {\"name\": \"Alice\",\n",
        "           \"score\": 95,\n",
        "           \"age\": 22}\n",
        "\n",
        "print(\"Dictionary:\", student)\n",
        "print(\"Student name:\", student[\"name\"])\n",
        "print(\"Student Age:\", student[\"age\"])"
      ],
      "metadata": {
        "id": "e33GqqRXgsQ_",
        "colab": {
          "base_uri": "https://localhost:8080/"
        },
        "outputId": "a267a62b-27c9-4dd0-82dc-a2c7434acfc1"
      },
      "execution_count": null,
      "outputs": [
        {
          "output_type": "stream",
          "name": "stdout",
          "text": [
            "Dictionary: {'name': 'Alice', 'score': 95, 'age': 22}\n",
            "Student name: Alice\n",
            "Student Age: 22\n"
          ]
        }
      ]
    },
    {
      "cell_type": "markdown",
      "source": [
        "### Sets\n",
        "Sets are unordered collections of unique elements."
      ],
      "metadata": {
        "id": "7xecbpqnlmFa"
      }
    },
    {
      "cell_type": "code",
      "source": [
        "unique_nums = {1, 4, 2, 3, 2}\n",
        "print(\"Set (no duplicates):\", unique_nums)"
      ],
      "metadata": {
        "id": "EV5Q92ylz94P",
        "colab": {
          "base_uri": "https://localhost:8080/"
        },
        "outputId": "3ebd0469-46f7-44a0-ac7f-90d0b65e5cb7"
      },
      "execution_count": null,
      "outputs": [
        {
          "output_type": "stream",
          "name": "stdout",
          "text": [
            "Set (no duplicates): {1, 2, 3, 4}\n"
          ]
        }
      ]
    },
    {
      "cell_type": "markdown",
      "source": [
        "## Conditional Statements\n",
        "\n",
        "- You can use `if`, `elif`, and `else` to control which block of code runs based on a condition.\n",
        "- Conditions are just expressions that return `True` or `False`.\n",
        "- Only the first `True` condition block is executed, the rest are skipped.\n",
        "\n",
        "Think of it like a filter that passes control to the matching block.\n"
      ],
      "metadata": {
        "id": "240fbEdgl1GX"
      }
    },
    {
      "cell_type": "code",
      "source": [
        "number = -5\n",
        "\n",
        "if number > 0:\n",
        "    print(\"Positive number\")\n",
        "elif number == 0:\n",
        "    print(\"Zero\")\n",
        "else:\n",
        "  print(\"Negative Number\")"
      ],
      "metadata": {
        "id": "rF-bcEjWl5v7",
        "colab": {
          "base_uri": "https://localhost:8080/"
        },
        "outputId": "6082375c-40c4-4e93-9fe9-f6072515c7dc"
      },
      "execution_count": null,
      "outputs": [
        {
          "output_type": "stream",
          "name": "stdout",
          "text": [
            "Negative Number\n"
          ]
        }
      ]
    },
    {
      "cell_type": "markdown",
      "source": [
        "## Loops\n",
        "\n",
        "Loops are used to repeat a block of code multiple times\n"
      ],
      "metadata": {
        "id": "HOzYfvRJl-f7"
      }
    },
    {
      "cell_type": "markdown",
      "source": [
        "###for loop\n",
        "Use a for loop when you know in advance how many times you want to repeat something."
      ],
      "metadata": {
        "id": "fObEmyzvdrd-"
      }
    },
    {
      "cell_type": "code",
      "source": [
        "for i in range(5):\n",
        "    print(i)"
      ],
      "metadata": {
        "id": "Hz4bqXKKmA3l",
        "colab": {
          "base_uri": "https://localhost:8080/"
        },
        "outputId": "779ed056-dd2a-4d0b-8fd3-fd69ec40e4ea"
      },
      "execution_count": null,
      "outputs": [
        {
          "output_type": "stream",
          "name": "stdout",
          "text": [
            "0\n",
            "1\n",
            "2\n",
            "3\n",
            "4\n"
          ]
        }
      ]
    },
    {
      "cell_type": "markdown",
      "source": [
        "###while loop\n",
        "Use a while loop when you want more control over how many times the loop runs."
      ],
      "metadata": {
        "id": "BVTiiUdAdvQQ"
      }
    },
    {
      "cell_type": "code",
      "source": [
        "x = 3\n",
        "while x > 0:\n",
        "    print(x)\n",
        "    x -= 1"
      ],
      "metadata": {
        "collapsed": true,
        "id": "RNUrkEo-duMc",
        "colab": {
          "base_uri": "https://localhost:8080/"
        },
        "outputId": "3dc5c57d-4680-4691-b7c1-fc11eceb08d3"
      },
      "execution_count": null,
      "outputs": [
        {
          "output_type": "stream",
          "name": "stdout",
          "text": [
            "3\n",
            "2\n",
            "1\n"
          ]
        }
      ]
    },
    {
      "cell_type": "markdown",
      "source": [
        "### Handy Built-in Functions for Loops\n",
        "\n",
        "range() and enumerate()\n",
        "\n",
        "\n"
      ],
      "metadata": {
        "id": "-Is8YIsupWae"
      }
    },
    {
      "cell_type": "markdown",
      "source": [
        "- `range(n)` creates a sequence from 0 to n-1"
      ],
      "metadata": {
        "id": "5NBcG7IaeapZ"
      }
    },
    {
      "cell_type": "code",
      "source": [
        "for i in range(3):\n",
        "    print(\"Range value:\", i)"
      ],
      "metadata": {
        "id": "nFfoiUfSeVBT",
        "colab": {
          "base_uri": "https://localhost:8080/"
        },
        "outputId": "d8f724ea-968a-4d0f-bbc8-fddeb9718d01"
      },
      "execution_count": null,
      "outputs": [
        {
          "output_type": "stream",
          "name": "stdout",
          "text": [
            "Range value: 0\n",
            "Range value: 1\n",
            "Range value: 2\n"
          ]
        }
      ]
    },
    {
      "cell_type": "markdown",
      "source": [
        "- `enumerate()` gives both index and value in loops"
      ],
      "metadata": {
        "id": "e-rI9GLVeV-_"
      }
    },
    {
      "cell_type": "code",
      "source": [
        "items = [\"a\", \"b\", \"c\"]\n",
        "for idx, val in enumerate(items):\n",
        "    print(f\"Index {idx}: {val}\")"
      ],
      "metadata": {
        "id": "0jXylCCApYVh",
        "colab": {
          "base_uri": "https://localhost:8080/"
        },
        "outputId": "cf2efb5d-9d8a-4481-a4e2-8a3893be4fd5"
      },
      "execution_count": null,
      "outputs": [
        {
          "output_type": "stream",
          "name": "stdout",
          "text": [
            "Index 0: a\n",
            "Index 1: b\n",
            "Index 2: c\n"
          ]
        }
      ]
    },
    {
      "cell_type": "markdown",
      "source": [
        "## Functions and Arguments"
      ],
      "metadata": {
        "id": "EMq9qVhHe2Y0"
      }
    },
    {
      "cell_type": "markdown",
      "source": [
        "In Python, we define functions using the `def` keyword."
      ],
      "metadata": {
        "id": "BZhKJBEUeqBc"
      }
    },
    {
      "cell_type": "code",
      "source": [
        "def greet(name):\n",
        "    print(\"Hello\", name)"
      ],
      "metadata": {
        "id": "Rb_jBs65fi8P"
      },
      "execution_count": null,
      "outputs": []
    },
    {
      "cell_type": "code",
      "source": [
        "greet(\"Bob\")"
      ],
      "metadata": {
        "id": "NYeFO1DOfmqX",
        "colab": {
          "base_uri": "https://localhost:8080/"
        },
        "outputId": "e0331e54-356f-4c88-f9b6-fb86d01bcce7"
      },
      "execution_count": null,
      "outputs": [
        {
          "output_type": "stream",
          "name": "stdout",
          "text": [
            "Hello Bob\n"
          ]
        }
      ]
    },
    {
      "cell_type": "markdown",
      "source": [
        "### \\*args and \\**kwargs\n",
        "\n"
      ],
      "metadata": {
        "id": "bszL3lt713jo"
      }
    },
    {
      "cell_type": "markdown",
      "source": [
        "*args allows you to pass a variable number of positional arguments.\n",
        "\n",
        "**kwargs allows you to pass a variable number of named keyword arguments.\n",
        "\n",
        "This feature is unique to Python compared to many statically typed languages where function arguments must be fixed."
      ],
      "metadata": {
        "id": "PDFiQtzcfeDb"
      }
    },
    {
      "cell_type": "code",
      "source": [
        "def print_course_info(id, *args, **kwargs):\n",
        "    print(\"Course ID:\", id)\n",
        "    print(\"Positional arguments (args):\", args)\n",
        "    print(\"Keyword arguments (kwargs):\", kwargs)\n",
        "\n",
        "print_course_info(11785, \"Deep\", \"Learning\", course=\"IDL\", year=2025)\n",
        "print_course_info(11785, \"Deep\", \"Learning\", year=2025)\n",
        "print_course_info(11785, \"Deep\", \"Learning\", year=2025, course=\"IDL\", students=400)"
      ],
      "metadata": {
        "id": "19W8VD3X17SN",
        "colab": {
          "base_uri": "https://localhost:8080/"
        },
        "outputId": "7174f6ed-e641-45ef-aad3-74e3b606e7a5"
      },
      "execution_count": null,
      "outputs": [
        {
          "output_type": "stream",
          "name": "stdout",
          "text": [
            "Course ID: 11785\n",
            "Positional arguments (args): ('Deep', 'Learning')\n",
            "Keyword arguments (kwargs): {'course': 'IDL', 'year': 2025}\n",
            "Course ID: 11785\n",
            "Positional arguments (args): ('Deep', 'Learning')\n",
            "Keyword arguments (kwargs): {'year': 2025}\n",
            "Course ID: Deep\n",
            "Positional arguments (args): ('Learning',)\n",
            "Keyword arguments (kwargs): {'year': 2025, 'course': 'IDL', 'students': 400}\n"
          ]
        }
      ]
    },
    {
      "cell_type": "markdown",
      "source": [
        "## Variables are passed by reference"
      ],
      "metadata": {
        "id": "Nbt7xBpc0G13"
      }
    },
    {
      "cell_type": "code",
      "source": [
        "def modify_list(my_list):\n",
        "    my_list.append(100)\n",
        "\n",
        "data = [1, 2, 3]\n",
        "print(\"Original list:\", data)\n",
        "modify_list(data)\n",
        "print(\"Modified list:\", data)"
      ],
      "metadata": {
        "id": "VJitiC3i0Mso",
        "colab": {
          "base_uri": "https://localhost:8080/"
        },
        "outputId": "bc893de8-83b9-47f0-8770-887ca82143c3"
      },
      "execution_count": null,
      "outputs": [
        {
          "output_type": "stream",
          "name": "stdout",
          "text": [
            "Original list: [1, 2, 3]\n",
            "Modified list: [1, 2, 3, 100]\n"
          ]
        }
      ]
    },
    {
      "cell_type": "markdown",
      "source": [
        "## Classes"
      ],
      "metadata": {
        "id": "qj_EAA340XRR"
      }
    },
    {
      "cell_type": "markdown",
      "source": [
        "Python is an Object Oriented Programming Language. So everything is an object with its own properties and methods.\n",
        "A `Class` is a blueprint for creating these objects."
      ],
      "metadata": {
        "id": "0H69tu7e6RTa"
      }
    },
    {
      "cell_type": "code",
      "source": [
        "class Student:\n",
        "    def __init__(self, name, score):\n",
        "        self.name = name\n",
        "        self.score = score\n",
        "\n",
        "    def greet(self):\n",
        "        print(f\"Hi, I'm {self.name} and I scored {self.score} in Deep Learning!\")"
      ],
      "metadata": {
        "id": "Ob7a39Q0122B"
      },
      "execution_count": null,
      "outputs": []
    },
    {
      "cell_type": "markdown",
      "source": [
        "Now, we can instantiate an object of the `Student` class by specifying the properties like `name` and `score` for that instance."
      ],
      "metadata": {
        "id": "6tJ3vLJJ6qpw"
      }
    },
    {
      "cell_type": "code",
      "source": [
        "s = Student(\"Alice\", 95)\n",
        "s.greet()"
      ],
      "metadata": {
        "colab": {
          "base_uri": "https://localhost:8080/"
        },
        "id": "CwymkCdw6qRz",
        "outputId": "1aed8d49-4999-4ad6-9fe8-aabdc8ee98b2"
      },
      "execution_count": null,
      "outputs": [
        {
          "output_type": "stream",
          "name": "stdout",
          "text": [
            "Hi, I'm Alice and I scored 95 in Deep Learning!\n"
          ]
        }
      ]
    },
    {
      "cell_type": "markdown",
      "source": [
        "## ⚠️ Error Handling  "
      ],
      "metadata": {
        "id": "T7qp_gRx5ibt"
      }
    },
    {
      "cell_type": "code",
      "source": [
        "def divide(a, b):\n",
        "    try:\n",
        "        result = a / b\n",
        "    except ZeroDivisionError:\n",
        "        print(\"Error: Cannot divide by zero!\")\n",
        "        result = None\n",
        "    finally:\n",
        "        print(\"Execution completed.\")\n",
        "    return result\n",
        "\n",
        "print(\"Result 1:\", divide(10, 2))\n",
        "print(\"Result 2:\", divide(5, 0))"
      ],
      "metadata": {
        "id": "dzD9MkR55lOR",
        "colab": {
          "base_uri": "https://localhost:8080/"
        },
        "outputId": "fbe94608-c4d2-4158-d3f9-11509db0c0fc"
      },
      "execution_count": null,
      "outputs": [
        {
          "output_type": "stream",
          "name": "stdout",
          "text": [
            "Execution completed.\n",
            "Result 1: 5.0\n",
            "Error: Cannot divide by zero!\n",
            "Execution completed.\n",
            "Result 2: None\n"
          ]
        }
      ]
    },
    {
      "cell_type": "markdown",
      "source": [
        "**Some errors that you'll likely run into:**\n",
        "\n",
        "* **FileNotFoundError**: trying to load a missing model or dataset\n",
        "\n",
        "* **KeyError**: accessing a missing key in a config or label map\n",
        "\n",
        "* **ValueError**: bad input dimensions or hyperparameter values\n",
        "\n",
        "* **RuntimeError**: PyTorch memory errors, especially on GPU\n",
        "\n",
        "* **TypeError**: passing a tensor when a float was expected"
      ],
      "metadata": {
        "id": "F2A7Rti4RQS3"
      }
    },
    {
      "cell_type": "markdown",
      "source": [
        "## File System"
      ],
      "metadata": {
        "id": "DgVv3BdB4w6S"
      }
    },
    {
      "cell_type": "code",
      "source": [
        "import os\n",
        "\n",
        "# Create a new folder\n",
        "folder_name = \"experiment_logs\"\n",
        "os.makedirs(folder_name, exist_ok=True)  # avoids error if folder already exists\n",
        "print(f\"Folder '{folder_name}' created.\")\n",
        "\n",
        "# Write to a file inside that folder\n",
        "file_path = os.path.join(folder_name, \"log.txt\")\n",
        "with open(file_path, \"w\") as f:\n",
        "    f.write(\"This is the first log.\\n\")\n",
        "    f.write(\"This is the second log.\\n\")\n",
        "\n",
        "# Read the file content\n",
        "with open(file_path, \"r\") as f:\n",
        "    content = f.read()\n",
        "    print(\"\\nFile content:\")\n",
        "    print(content)\n",
        "\n",
        "# List all files in the folder\n",
        "print(\"\\nFiles in folder:\")\n",
        "print(os.listdir(folder_name))\n",
        "\n",
        "# Check if the file exists\n",
        "if os.path.exists(file_path):\n",
        "    print(f\"\\n'{file_path}' exists.\")\n",
        "\n",
        "# Delete the file\n",
        "os.remove(file_path)\n",
        "print(f\"\\n'{file_path}' deleted.\")"
      ],
      "metadata": {
        "id": "Yd33a3aH4pIl"
      },
      "execution_count": null,
      "outputs": []
    },
    {
      "cell_type": "markdown",
      "source": [
        "##Built-in Functions\n"
      ],
      "metadata": {
        "id": "Qt8ybuYmsg9j"
      }
    },
    {
      "cell_type": "markdown",
      "source": [
        "Python comes with tons of built-in functions that make your life easier. You’ve already seen a few like `print()`, `type()`, and `range()`.\n",
        "\n",
        "Some other useful ones include:\n",
        "- len() – to get the length of a list or string\n",
        "- sum() – to sum up elements of a list\n",
        "- max() / min() – to find the maximum or minimum value\n",
        "- sorted() – to sort a list\n",
        "- zip() – to combine multiple lists element-wise\n",
        "\n",
        "You don’t need to memorize them all right now. As you write more code, you’ll naturally start using these and appreciating how powerful they are.\n"
      ],
      "metadata": {
        "id": "GobsrREOs5kv"
      }
    },
    {
      "cell_type": "markdown",
      "source": [
        "## 📘 Further Reading\n",
        "\n",
        "[Official Python Tutorial](https://docs.python.org/3/tutorial/index.html)-A great place to strengthen your Python fundamentals!\n",
        "\n",
        "\n",
        "\n",
        "**Happy (Deep) Learning! :-)**"
      ],
      "metadata": {
        "id": "GLeNSFakaG9b"
      }
    }
  ]
}