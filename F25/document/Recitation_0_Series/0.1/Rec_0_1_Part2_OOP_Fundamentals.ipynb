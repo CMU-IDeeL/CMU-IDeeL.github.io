{
  "cells": [
    {
      "cell_type": "markdown",
      "source": [
        "[![Open In Colab](https://colab.research.google.com/assets/colab-badge.svg)](\n",
        "https://colab.research.google.com/github/CMU-IDeeL/CMU-IDeeL.github.io/blob/master/F25/document/Recitation_0_Series/0.1/Rec_0_1_Part2_OOP_Fundamentals.ipynb)"
      ],
      "metadata": {
        "id": "hO88X2oIOgWy"
      },
      "id": "hO88X2oIOgWy"
    },
    {
      "cell_type": "markdown",
      "id": "2e92fdb5",
      "metadata": {
        "id": "2e92fdb5"
      },
      "source": [
        "# OOP Fundamentals"
      ]
    },
    {
      "cell_type": "markdown",
      "id": "dc9e8c8c",
      "metadata": {
        "id": "dc9e8c8c"
      },
      "source": [
        "## There are 4 of these:"
      ]
    },
    {
      "cell_type": "markdown",
      "id": "18221f94",
      "metadata": {
        "id": "18221f94"
      },
      "source": [
        "1. **Abstraction**: *Hides complex details, exposing only essential features through abstract classes/methods.*\n",
        "\n",
        "2. **Encapsulation**: *Bundles data and methods, restricting direct access to protect data integrity.*\n",
        "\n",
        "3. **Inheritance**: *Allows a class to inherit properties/methods from another, promoting code reuse.*\n",
        "\n",
        "4. **Polymorphism**: *Enables different classes to be treated as instances of a common superclass, with unique method implementations.*"
      ]
    },
    {
      "cell_type": "markdown",
      "id": "cdded250",
      "metadata": {
        "id": "cdded250"
      },
      "source": [
        "### example 1: abstraction"
      ]
    },
    {
      "cell_type": "code",
      "execution_count": null,
      "id": "9289c542",
      "metadata": {
        "id": "9289c542"
      },
      "outputs": [],
      "source": [
        "from abc import ABC, abstractmethod\n",
        "\n",
        "# abstract class for shoes\n",
        "class Shoe(ABC):\n",
        "    @abstractmethod\n",
        "    def wear(self):\n",
        "        pass\n",
        "\n",
        "# concrete class implementing abstract method\n",
        "class Sneaker(Shoe):\n",
        "    def wear(self):\n",
        "        return \"Sneakers are now worn.\"\n",
        "\n",
        "# usage\n",
        "sneaker = Sneaker()\n",
        "print(sneaker.wear())  # output: Sneakers are now worn."
      ]
    },
    {
      "cell_type": "markdown",
      "id": "9f3846b7",
      "metadata": {
        "id": "9f3846b7"
      },
      "source": [
        "### example 2: encapsulation"
      ]
    },
    {
      "cell_type": "code",
      "execution_count": null,
      "id": "263ebb79",
      "metadata": {
        "id": "263ebb79"
      },
      "outputs": [],
      "source": [
        "class Boot:\n",
        "    # private attribute\n",
        "    def __init__(self, brand):\n",
        "        self.__brand = brand\n",
        "\n",
        "    # public getter method\n",
        "    def get_brand(self):\n",
        "        return self.__brand\n",
        "\n",
        "    # public setter with validation\n",
        "    def set_brand(self, brand):\n",
        "        self.__brand = brand\n",
        "\n",
        "# usage\n",
        "boot = Boot(\"Timberland\")\n",
        "print(boot.get_brand())  # output: Timberland\n",
        "boot.set_brand(\"Mr. Price\")\n",
        "print(boot.get_brand())  # output: Dr. Martens"
      ]
    },
    {
      "cell_type": "markdown",
      "id": "8a96f680",
      "metadata": {
        "id": "8a96f680"
      },
      "source": [
        "### example 3: inheritance"
      ]
    },
    {
      "cell_type": "code",
      "execution_count": null,
      "id": "01b29978",
      "metadata": {
        "id": "01b29978"
      },
      "outputs": [],
      "source": [
        "class BasicShoe:\n",
        "    def describe(self):\n",
        "        return \"This is a basic shoe.\"\n",
        "\n",
        "# child class inheriting from parent\n",
        "class Sandal(BasicShoe):\n",
        "    def strap_type(self):\n",
        "        return \"This is an open-toe sandal.\"\n",
        "\n",
        "# usage\n",
        "sandal = Sandal()\n",
        "print(sandal.describe())  # output: This is a basic shoe.\n",
        "print(sandal.strap_type())  # output: This is an open-toe sandal."
      ]
    },
    {
      "cell_type": "markdown",
      "id": "dd0bc0c6",
      "metadata": {
        "id": "dd0bc0c6"
      },
      "source": [
        "### example 4: polymorphism"
      ]
    },
    {
      "cell_type": "code",
      "execution_count": null,
      "id": "e56365e0",
      "metadata": {
        "id": "e56365e0"
      },
      "outputs": [],
      "source": [
        "class BasicShoe:\n",
        "    def describe(self):\n",
        "        return \"This is a basic shoe.\"\n",
        "\n",
        "class Loafer(BasicShoe):\n",
        "    def describe(self):  # override parent method\n",
        "        return \"This is a classy loafer.\"\n",
        "\n",
        "class Slipper(BasicShoe):\n",
        "    def describe(self):  # override parent method\n",
        "        return \"And this is a cozy slipper.\"\n",
        "\n",
        "# class Boot(BasicShoe):\n",
        "#     def describe(self):  # override parent method\n",
        "#         return \"And this is a sturdy boot.\"\n",
        "\n",
        "# usage\n",
        "shoes = [Loafer(), Slipper()]\n",
        "# shoes = [Loafer(), Slipper(), Boot()]\n",
        "for shoe in shoes:\n",
        "    print(shoe.describe())  # output: This is a classy loafer. \\n And this is a cozy slipper."
      ]
    },
    {
      "cell_type": "markdown",
      "id": "eeb55ede",
      "metadata": {
        "id": "eeb55ede"
      },
      "source": [
        "### References"
      ]
    },
    {
      "cell_type": "markdown",
      "id": "0a00f2aa",
      "metadata": {
        "id": "0a00f2aa"
      },
      "source": [
        "Python Official Docs: https://docs.python.org/3/tutorial/classes.html\n",
        "\n",
        "Real Python OOP Guide: https://realpython.com/python3-object-oriented-programming/\n",
        "\n",
        "GeeksforGeeks OOP in Python: https://www.geeksforgeeks.org/python-oops-concepts/"
      ]
    },
    {
      "cell_type": "markdown",
      "id": "e1343c44",
      "metadata": {
        "id": "e1343c44"
      },
      "source": []
    }
  ],
  "metadata": {
    "kernelspec": {
      "display_name": ".venv",
      "language": "python",
      "name": "python3"
    },
    "language_info": {
      "codemirror_mode": {
        "name": "ipython",
        "version": 3
      },
      "file_extension": ".py",
      "mimetype": "text/x-python",
      "name": "python",
      "nbconvert_exporter": "python",
      "pygments_lexer": "ipython3",
      "version": "3.12.9"
    },
    "colab": {
      "provenance": []
    }
  },
  "nbformat": 4,
  "nbformat_minor": 5
}