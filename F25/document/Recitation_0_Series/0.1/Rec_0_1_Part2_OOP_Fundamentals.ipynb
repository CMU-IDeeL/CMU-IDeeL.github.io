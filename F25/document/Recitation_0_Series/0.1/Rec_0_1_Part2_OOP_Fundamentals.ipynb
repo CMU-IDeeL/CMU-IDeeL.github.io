{
  "cells": [
    {
      "cell_type": "markdown",
      "id": "2e92fdb5",
      "metadata": {
        "id": "2e92fdb5"
      },
      "source": [
        "# Class"
      ]
    },
    {
      "cell_type": "markdown",
      "id": "0e4ae534",
      "metadata": {
        "id": "0e4ae534"
      },
      "source": [
        "A class is a data type that is an entire structure that includes both variables and functions.\n",
        "\n",
        "When you create a class, it has this objects in them that are instatiated in that class.\n",
        "It bundles data (attributes) and functions (methods) that operate on that data, promoting organized and reusable code."
      ]
    },
    {
      "cell_type": "code",
      "execution_count": null,
      "id": "5cc6e06b",
      "metadata": {
        "id": "5cc6e06b"
      },
      "outputs": [],
      "source": [
        "class Cat:\n",
        "    def __init__(self, name, age):  # constructor method\n",
        "        self.name = name  # public attribute\n",
        "        self._age = age     # conventionally private attribute (single underscore), PEP(Python Enhancement Protocols) 745\n",
        "\n",
        "    def bark(self):         # public method\n",
        "        print(\"Meow!\")"
      ]
    },
    {
      "cell_type": "markdown",
      "id": "ca0a4900",
      "metadata": {
        "id": "ca0a4900"
      },
      "source": [
        "To instantiate (create an object from) the class, you call it like a function: my_dog = Dog(\"Buddy\", 3).\n",
        "\n",
        "Public attributes like name can be accessed directly (my_dog.name), while private ones (by convention, not enforced) use a single underscore (_age) to signal they shouldn't be accessed outside the class; double underscore (__age) triggers name mangling for stronger privacy.\n",
        "\n",
        "Inheritance allows a new class to inherit attributes and methods from an existing one, extending or overriding them—for instance, class Puppy(Dog): creates a subclass that inherits from Dog, so a Puppy object can use bark() and add its own features like play(). This enables code reuse and hierarchy in object-oriented programming"
      ]
    },
    {
      "cell_type": "code",
      "execution_count": null,
      "id": "2a2b1f51",
      "metadata": {
        "id": "2a2b1f51",
        "outputId": "11dde88c-12c8-4339-87b6-f336004cf4c9"
      },
      "outputs": [
        {
          "name": "stdout",
          "output_type": "stream",
          "text": [
            "Whiskers\n"
          ]
        }
      ],
      "source": [
        "# defining the base class Cat\n",
        "class Cat:\n",
        "    def __init__(self, name, age):\n",
        "        self.name = name       # public attribute\n",
        "        self._age = age        # conventionally private (single underscore)\n",
        "        self.__secret = \"hidden\"  # name-mangled private (double underscore)\n",
        "\n",
        "    def meow(self):\n",
        "        print(\"Meow!\")\n",
        "\n",
        "    def get_age(self):\n",
        "        return self._age   # method to access private attribute\n",
        "\n",
        "# instantiating (creating an object from) the Cat class\n",
        "my_cat = Cat(\"Whiskers\", 3)  # call the class like a function with arguments\n",
        "\n",
        "# accessing public attribute directly\n",
        "print(my_cat.name)  # output: Whiskers"
      ]
    },
    {
      "cell_type": "code",
      "execution_count": null,
      "id": "8fd35d6b",
      "metadata": {
        "id": "8fd35d6b",
        "outputId": "22951fe3-c0e1-438c-fd10-b638169ad3ef"
      },
      "outputs": [
        {
          "name": "stdout",
          "output_type": "stream",
          "text": [
            "3\n",
            "Meow!\n"
          ]
        }
      ],
      "source": [
        "# accessing conventionally private attribute (possible but not recommended)\n",
        "print(my_cat._age)  # output: 3\n",
        "\n",
        "# Trying to access name-mangled private attribute directly (will raise AttributeError)\n",
        "# print(my_cat.__secret)  # this won't work due to name mangling\n",
        "# instead, it can be accessed as my_cat._Cat__secret (but avoid this)\n",
        "\n",
        "# using a method from the object\n",
        "my_cat.meow()  # output: Meow!"
      ]
    },
    {
      "cell_type": "code",
      "execution_count": null,
      "id": "a69b4bde",
      "metadata": {
        "id": "a69b4bde",
        "outputId": "682118b9-5488-4863-9ec8-c4cfff6899bf"
      },
      "outputs": [
        {
          "name": "stdout",
          "output_type": "stream",
          "text": [
            "Fluffy\n",
            "1\n",
            "Mew!\n",
            "Fluffy is playing with a ball!\n"
          ]
        }
      ],
      "source": [
        "# inheritance: defining a subclass Kitten that inherits from Cat\n",
        "class Kitten(Cat):\n",
        "    def __init__(self, name, age, toy):\n",
        "        super().__init__(name, age)  # call parent class constructor\n",
        "        self.toy = toy               # new attribute for Kitten\n",
        "\n",
        "    def play(self):                  # new method for Kitten\n",
        "        print(f\"{self.name} is playing with a {self.toy}!\")\n",
        "\n",
        "    def meow(self):                  # overriding the meow method\n",
        "        print(\"Mew!\")                # overrides parent's meow\n",
        "\n",
        "# instantiating the Kitten subclass\n",
        "my_kitten = Kitten(\"Fluffy\", 1, \"ball\")\n",
        "\n",
        "# inherited and new features\n",
        "print(my_kitten.name)     # public attribute from parent: Fluffy\n",
        "print(my_kitten.get_age())# accessing private via method: 1\n",
        "my_kitten.meow()          # overridden method: Mew!\n",
        "my_kitten.play()          # new method: Fluffy is playing with a ball"
      ]
    },
    {
      "cell_type": "markdown",
      "id": "bf3be4a2",
      "metadata": {
        "id": "bf3be4a2"
      },
      "source": [
        "# OOP Fundamentals"
      ]
    },
    {
      "cell_type": "markdown",
      "id": "408aa5cf",
      "metadata": {
        "id": "408aa5cf"
      },
      "source": [
        "Object Oriented Programming(OOP)"
      ]
    },
    {
      "cell_type": "markdown",
      "id": "dc9e8c8c",
      "metadata": {
        "id": "dc9e8c8c"
      },
      "source": [
        "## There are 4 of these:"
      ]
    },
    {
      "cell_type": "markdown",
      "id": "18221f94",
      "metadata": {
        "id": "18221f94"
      },
      "source": [
        "1. **Abstraction**: *Hides complex details, exposing only essential features through abstract classes/methods.*\n",
        "\n",
        "2. **Encapsulation**: *Bundles data and methods, restricting direct access to protect data integrity.*\n",
        "\n",
        "3. **Inheritance**: *Allows a class to inherit properties/methods from another, promoting code reuse.*\n",
        "\n",
        "4. **Polymorphism**: *Enables different classes to be treated as instances of a common superclass, with unique method implementations.*"
      ]
    },
    {
      "cell_type": "markdown",
      "id": "cdded250",
      "metadata": {
        "id": "cdded250"
      },
      "source": [
        "### example 1: abstraction"
      ]
    },
    {
      "cell_type": "code",
      "execution_count": null,
      "id": "9289c542",
      "metadata": {
        "id": "9289c542",
        "outputId": "cb927aba-256a-40ee-a70f-d13dd67f187b"
      },
      "outputs": [
        {
          "name": "stdout",
          "output_type": "stream",
          "text": [
            "Sneakers are now worn.\n"
          ]
        }
      ],
      "source": [
        "from abc import ABC, abstractmethod\n",
        "\n",
        "# abstract class for shoes\n",
        "class Shoe(ABC):\n",
        "    @abstractmethod\n",
        "    def wear(self):\n",
        "        pass\n",
        "\n",
        "# concrete class implementing abstract method\n",
        "class Sneaker(Shoe):\n",
        "    def wear(self):\n",
        "        return \"Sneakers are now worn.\"\n",
        "\n",
        "# usage\n",
        "sneaker = Sneaker()\n",
        "print(sneaker.wear())  # output: Sneakers are now worn."
      ]
    },
    {
      "cell_type": "markdown",
      "id": "9f3846b7",
      "metadata": {
        "id": "9f3846b7"
      },
      "source": [
        "### example 2: encapsulation"
      ]
    },
    {
      "cell_type": "code",
      "execution_count": null,
      "id": "263ebb79",
      "metadata": {
        "id": "263ebb79",
        "outputId": "9f88b813-3552-4eae-e0f0-fa1b1744654b"
      },
      "outputs": [
        {
          "name": "stdout",
          "output_type": "stream",
          "text": [
            "Timberland\n",
            "Mr. Price\n"
          ]
        }
      ],
      "source": [
        "class Boot:\n",
        "    # private attribute\n",
        "    def __init__(self, brand):\n",
        "        self.__brand = brand\n",
        "\n",
        "    # public getter method\n",
        "    def get_brand(self):\n",
        "        return self.__brand\n",
        "\n",
        "    # public setter with validation\n",
        "    def set_brand(self, brand):\n",
        "        self.__brand = brand\n",
        "\n",
        "# usage\n",
        "boot = Boot(\"Timberland\")\n",
        "print(boot.get_brand())  # output: Timberland\n",
        "boot.set_brand(\"Mr. Price\")\n",
        "print(boot.get_brand())  # output: Mr. Price"
      ]
    },
    {
      "cell_type": "markdown",
      "id": "8a96f680",
      "metadata": {
        "id": "8a96f680"
      },
      "source": [
        "### example 3: inheritance"
      ]
    },
    {
      "cell_type": "code",
      "execution_count": null,
      "id": "01b29978",
      "metadata": {
        "id": "01b29978",
        "outputId": "eb15718a-c61f-4647-f6f2-f85ff9cd762e"
      },
      "outputs": [
        {
          "name": "stdout",
          "output_type": "stream",
          "text": [
            "This is a basic shoe.\n",
            "This is an open-toe sandal.\n"
          ]
        }
      ],
      "source": [
        "class BasicShoe:\n",
        "    def describe(self):\n",
        "        return \"This is a basic shoe.\"\n",
        "\n",
        "# child class inheriting from parent\n",
        "class Sandal(BasicShoe):\n",
        "    def strap_type(self):\n",
        "        return \"This is an open-toe sandal.\"\n",
        "\n",
        "# usage\n",
        "sandal = Sandal()\n",
        "print(sandal.describe())  # output: This is a basic shoe.\n",
        "print(sandal.strap_type())  # output: This is an open-toe sandal."
      ]
    },
    {
      "cell_type": "markdown",
      "id": "dd0bc0c6",
      "metadata": {
        "id": "dd0bc0c6"
      },
      "source": [
        "### example 4: polymorphism"
      ]
    },
    {
      "cell_type": "code",
      "execution_count": null,
      "id": "e56365e0",
      "metadata": {
        "id": "e56365e0",
        "outputId": "5d552d97-2e78-428b-fd25-af5a79067e1a"
      },
      "outputs": [
        {
          "name": "stdout",
          "output_type": "stream",
          "text": [
            "This is a classy loafer.\n",
            "And this is a cozy slipper.\n",
            "And this is a sturdy boot.\n"
          ]
        }
      ],
      "source": [
        "class BasicShoe:\n",
        "    def describe(self):\n",
        "        return \"This is a basic shoe.\"\n",
        "\n",
        "class Loafer(BasicShoe):\n",
        "    def describe(self):  # override parent method\n",
        "        return \"This is a classy loafer.\"\n",
        "\n",
        "class Slipper(BasicShoe):\n",
        "    def describe(self):  # override parent method\n",
        "        return \"And this is a cozy slipper.\"\n",
        "\n",
        "class Boot(BasicShoe):\n",
        "    def describe(self):  # override parent method\n",
        "        return \"And this is a sturdy boot.\"\n",
        "\n",
        "# usage\n",
        "# shoes = [Loafer(), Slipper()]\n",
        "shoes = [Loafer(), Slipper(), Boot()]\n",
        "for shoe in shoes:\n",
        "    print(shoe.describe())  # output: This is a classy loafer. \\n And this is a cozy slipper."
      ]
    },
    {
      "cell_type": "markdown",
      "id": "eeb55ede",
      "metadata": {
        "id": "eeb55ede"
      },
      "source": [
        "### References"
      ]
    },
    {
      "cell_type": "markdown",
      "id": "0a00f2aa",
      "metadata": {
        "id": "0a00f2aa"
      },
      "source": [
        "Python Official Docs: https://docs.python.org/3/tutorial/classes.html\n",
        "\n",
        "Real Python OOP Guide: https://realpython.com/python3-object-oriented-programming/\n",
        "\n",
        "GeeksforGeeks OOP in Python: https://www.geeksforgeeks.org/python-oops-concepts/"
      ]
    },
    {
      "cell_type": "markdown",
      "id": "e1343c44",
      "metadata": {
        "id": "e1343c44"
      },
      "source": []
    }
  ],
  "metadata": {
    "kernelspec": {
      "display_name": ".venv",
      "language": "python",
      "name": "python3"
    },
    "language_info": {
      "codemirror_mode": {
        "name": "ipython",
        "version": 3
      },
      "file_extension": ".py",
      "mimetype": "text/x-python",
      "name": "python",
      "nbconvert_exporter": "python",
      "pygments_lexer": "ipython3",
      "version": "3.12.9"
    },
    "colab": {
      "provenance": []
    }
  },
  "nbformat": 4,
  "nbformat_minor": 5
}