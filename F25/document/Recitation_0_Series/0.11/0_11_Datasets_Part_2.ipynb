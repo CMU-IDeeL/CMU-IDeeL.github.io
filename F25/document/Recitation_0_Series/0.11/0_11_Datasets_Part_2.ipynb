{
  "cells": [
    {
      "cell_type": "markdown",
      "source": [
        "[![Open In Colab](https://colab.research.google.com/assets/colab-badge.svg)](\n",
        "https://colab.research.google.com/github/CMU-IDeeL/CMU-IDeeL.github.io/blob/master/F25/document/Recitation_0_Series/0.11/0_11_Datasets_Part_2.ipynb)"
      ],
      "metadata": {
        "id": "aKOmFDfHAox6"
      }
    },
    {
      "cell_type": "code",
      "execution_count": null,
      "metadata": {
        "execution": {
          "iopub.execute_input": "2024-01-02T09:52:54.222068Z",
          "iopub.status.busy": "2024-01-02T09:52:54.221743Z",
          "iopub.status.idle": "2024-01-02T09:52:57.746023Z",
          "shell.execute_reply": "2024-01-02T09:52:57.745237Z",
          "shell.execute_reply.started": "2024-01-02T09:52:54.222039Z"
        },
        "id": "nvWzbxwsMFTD"
      },
      "outputs": [],
      "source": [
        "# Libraries that will be used in this recitation\n",
        "import numpy as np\n",
        "import torch\n",
        "import pandas as pd"
      ]
    },
    {
      "cell_type": "markdown",
      "metadata": {
        "id": "vn6jWNDhLQzN"
      },
      "source": [
        "In this recitation, you will learn about one if the audio datasets that will be used in our class."
      ]
    },
    {
      "cell_type": "markdown",
      "metadata": {
        "id": "X3Aswvbziqko"
      },
      "source": [
        "# Audio Datasets (Homework 1)"
      ]
    },
    {
      "cell_type": "markdown",
      "metadata": {
        "id": "BIGgQ2-dkZI5"
      },
      "source": [
        "In homework 1, we will provide you with MFCC speech data formatted in numpy arrays. MFCC is derived from raw waveform data. The process of calculating MFCC is not required in this course, but we will cover that in Recitation 1."
      ]
    },
    {
      "cell_type": "markdown",
      "metadata": {
        "id": "SuGFjyPupkwK"
      },
      "source": [
        "The datasets for HW1P2 is organized below.\n",
        "\n",
        "```\n",
        "some-competition-datasets\n",
        "  ├── dev-clean: For evaluation of your model, transcripts(lables) are provided\n",
        "  ├── test-clean: You have to predict the samples in this folder, and submit the result of your prediction to Kaggle\n",
        "  └── train-clean-100: For training\n",
        "```\n",
        "\n",
        "\n"
      ]
    },
    {
      "cell_type": "markdown",
      "source": [
        "## Import the Test Data"
      ],
      "metadata": {
        "id": "9f-C0w_-mDuR"
      }
    },
    {
      "cell_type": "markdown",
      "source": [
        "We've provided you with a tiny subset (15 samples) of the HW1P2 data in ```Recitation_0.10_Data.zip```. Drag and drop the zip file to Colab's files in the right panel."
      ],
      "metadata": {
        "id": "4NzA2TPjl25P"
      }
    },
    {
      "cell_type": "markdown",
      "metadata": {
        "id": "MCQ-B3GHrp5Y"
      },
      "source": [
        "## Unzipping the Dataset"
      ]
    },
    {
      "cell_type": "code",
      "execution_count": null,
      "metadata": {
        "id": "ahU2wA7bg8xJ"
      },
      "outputs": [],
      "source": [
        "!unzip -qo /content/Recitation_0.10_data.zip -d '/content'"
      ]
    },
    {
      "cell_type": "markdown",
      "metadata": {
        "id": "QVRDfIX_rkrS"
      },
      "source": [
        "## Training Samples & Labels"
      ]
    },
    {
      "cell_type": "markdown",
      "metadata": {
        "id": "XdtM249rrtpW"
      },
      "source": [
        "After unzipping, Load one sample and corresponding label from ```Recitation_0.10_data```."
      ]
    },
    {
      "cell_type": "code",
      "execution_count": null,
      "metadata": {
        "execution": {
          "iopub.execute_input": "2024-01-02T10:01:02.833960Z",
          "iopub.status.busy": "2024-01-02T10:01:02.833081Z",
          "iopub.status.idle": "2024-01-02T10:01:02.852398Z",
          "shell.execute_reply": "2024-01-02T10:01:02.851629Z",
          "shell.execute_reply.started": "2024-01-02T10:01:02.833924Z"
        },
        "id": "s74y3GSzrmd6"
      },
      "outputs": [],
      "source": [
        "SAMPLE_INDEX = \"1272-128104-0009\"\n",
        "x_file_path = f\"/content/Recitation_0.10_data/mfcc/{SAMPLE_INDEX}.npy\"\n",
        "y_file_path = f\"/content/Recitation_0.10_data/transcript/{SAMPLE_INDEX}.npy\"\n",
        "\n",
        "\n",
        "x = np.load(x_file_path)\n",
        "y = np.load(y_file_path)"
      ]
    },
    {
      "cell_type": "markdown",
      "metadata": {
        "id": "O2hb8chcsvGp"
      },
      "source": [
        "Now we have loaded one speech data and its transcript. Every speech MFCC data is organized as an array of shape ```T x 28```, where ```T``` is the total number of timesteps, and 28 is the number of features for MFCC file format."
      ]
    },
    {
      "cell_type": "code",
      "execution_count": null,
      "metadata": {
        "colab": {
          "base_uri": "https://localhost:8080/"
        },
        "execution": {
          "iopub.execute_input": "2024-01-02T10:01:08.355398Z",
          "iopub.status.busy": "2024-01-02T10:01:08.354686Z",
          "iopub.status.idle": "2024-01-02T10:01:08.359918Z",
          "shell.execute_reply": "2024-01-02T10:01:08.358944Z",
          "shell.execute_reply.started": "2024-01-02T10:01:08.355368Z"
        },
        "id": "Tf81ycmssc-i",
        "outputId": "be1ce9bc-492d-456b-a1c0-d35feca75ea1"
      },
      "outputs": [
        {
          "output_type": "stream",
          "name": "stdout",
          "text": [
            "Shape of x:  (1825, 28)\n"
          ]
        }
      ],
      "source": [
        "print(\"Shape of x: \", x.shape)"
      ]
    },
    {
      "cell_type": "markdown",
      "metadata": {
        "id": "w0e64JEBtE4f"
      },
      "source": [
        "As for the transcript, it is organized as a 1-D array with length ```T + 2``` The two extra timesteps are \\<SOS\\> and \\<EOS\\> tokens, which stand for \"start of sequence\" and \"end of sequence\", located in the beggining and the end respectively.\n",
        "\n",
        "**NOTE:** For homework 1, the two tokens are not needed. So you might want to remove them in part of your preprocessing pipeline."
      ]
    },
    {
      "cell_type": "code",
      "execution_count": null,
      "metadata": {
        "colab": {
          "base_uri": "https://localhost:8080/"
        },
        "execution": {
          "iopub.execute_input": "2024-01-02T10:01:14.735192Z",
          "iopub.status.busy": "2024-01-02T10:01:14.734590Z",
          "iopub.status.idle": "2024-01-02T10:01:14.740257Z",
          "shell.execute_reply": "2024-01-02T10:01:14.739266Z",
          "shell.execute_reply.started": "2024-01-02T10:01:14.735162Z"
        },
        "id": "9KE7bIpyslsj",
        "outputId": "5ab6bc10-5c99-46b4-efd5-20b268192129"
      },
      "outputs": [
        {
          "output_type": "stream",
          "name": "stdout",
          "text": [
            "Shape of y:  (1827,)\n",
            "Some elements of y:  ['L' 'L' 'L' 'L' 'L' 'L' 'L' 'L' 'L' 'L']\n"
          ]
        }
      ],
      "source": [
        "print(\"Shape of y: \", y.shape)\n",
        "print(\"Some elements of y: \", y[77:87])"
      ]
    },
    {
      "cell_type": "markdown",
      "metadata": {
        "id": "h_1Ktl0zuUTw"
      },
      "source": [
        "## Context Information"
      ]
    },
    {
      "cell_type": "markdown",
      "metadata": {
        "id": "n9tfd4z1ugA3"
      },
      "source": [
        "Proper management of local context is essential to homework 1, in which we are predicting the phoenome for each of the time step. The dominant solution in the past was setting a \"hand-crafted\" context with the following approaches: derivatives or context windows. In this homework, we are going to apply context windows."
      ]
    },
    {
      "cell_type": "markdown",
      "metadata": {
        "id": "PqIr2B_HvX1G"
      },
      "source": [
        "Context windows adds a local context by simply concatenating multiple consecutive timesteps. The result is a bigger feature vector that is better \"aware\" of the local information."
      ]
    },
    {
      "cell_type": "markdown",
      "metadata": {
        "id": "almlhVTvvJvI"
      },
      "source": [
        "For example, originally, the input to the network and the expected output to the network for timestep 64 would be:"
      ]
    },
    {
      "cell_type": "code",
      "execution_count": null,
      "metadata": {
        "colab": {
          "base_uri": "https://localhost:8080/"
        },
        "execution": {
          "iopub.execute_input": "2024-01-02T10:01:22.548341Z",
          "iopub.status.busy": "2024-01-02T10:01:22.547985Z",
          "iopub.status.idle": "2024-01-02T10:01:22.556792Z",
          "shell.execute_reply": "2024-01-02T10:01:22.555758Z",
          "shell.execute_reply.started": "2024-01-02T10:01:22.548311Z"
        },
        "id": "HAs4GVqYuV7z",
        "outputId": "d0cb92ac-a286-46e4-b546-42672d607553"
      },
      "outputs": [
        {
          "output_type": "execute_result",
          "data": {
            "text/plain": [
              "(array([-2.71944275e+01,  2.75271626e+01,  2.64715347e+01, -7.94004107e+00,\n",
              "        -4.98173094e+00, -3.83015394e+00,  1.95904713e+01, -7.39578152e+00,\n",
              "         6.96945667e+00,  1.58027525e+01,  3.30792546e+00, -2.05057216e+00,\n",
              "        -6.88332558e+00, -3.39014101e+00,  1.03521204e+00,  5.14063978e+00,\n",
              "        -3.66227412e+00,  5.28887033e+00,  3.91332150e+00,  2.56487012e+00,\n",
              "         1.00877535e+00, -7.50973284e-01,  2.04022810e-01, -1.72643125e-01,\n",
              "        -3.23839128e-01, -1.29539478e+00, -9.14911856e-04,  1.17291916e+02],\n",
              "       dtype=float32),\n",
              " 'HH')"
            ]
          },
          "metadata": {},
          "execution_count": 6
        }
      ],
      "source": [
        "x[64], y[65] # y is offset by one as we would like to ignore the SOS token"
      ]
    },
    {
      "cell_type": "code",
      "source": [
        "x[64].shape"
      ],
      "metadata": {
        "colab": {
          "base_uri": "https://localhost:8080/"
        },
        "id": "1NUIymhe1_DJ",
        "outputId": "d4f8e33f-201c-4cd4-8552-d36df2ac8fd2"
      },
      "execution_count": null,
      "outputs": [
        {
          "output_type": "execute_result",
          "data": {
            "text/plain": [
              "(28,)"
            ]
          },
          "metadata": {},
          "execution_count": 9
        }
      ]
    },
    {
      "cell_type": "markdown",
      "metadata": {
        "id": "vSumA-2jvnBh"
      },
      "source": [
        "Now we want to apply context window of 10 to the 64-th timestep, this could be done by concatenating features from 10 past and 10 future frames.:"
      ]
    },
    {
      "cell_type": "code",
      "execution_count": null,
      "metadata": {
        "execution": {
          "iopub.execute_input": "2024-01-02T10:01:27.555790Z",
          "iopub.status.busy": "2024-01-02T10:01:27.555061Z",
          "iopub.status.idle": "2024-01-02T10:01:27.560122Z",
          "shell.execute_reply": "2024-01-02T10:01:27.559093Z",
          "shell.execute_reply.started": "2024-01-02T10:01:27.555759Z"
        },
        "id": "V77hQVNvvbu8"
      },
      "outputs": [],
      "source": [
        "x_with_context = x[64 - 10: 64 + 11] # Use slicing to get"
      ]
    },
    {
      "cell_type": "code",
      "execution_count": null,
      "metadata": {
        "colab": {
          "base_uri": "https://localhost:8080/"
        },
        "execution": {
          "iopub.execute_input": "2024-01-02T10:01:41.642323Z",
          "iopub.status.busy": "2024-01-02T10:01:41.641621Z",
          "iopub.status.idle": "2024-01-02T10:01:41.647294Z",
          "shell.execute_reply": "2024-01-02T10:01:41.646345Z",
          "shell.execute_reply.started": "2024-01-02T10:01:41.642289Z"
        },
        "id": "EgWnEInPv5bB",
        "outputId": "607f67a3-4666-4694-9665-3b152a0ae4ac"
      },
      "outputs": [
        {
          "output_type": "stream",
          "name": "stdout",
          "text": [
            "After concatinating context, the shape of x: (21, 28)\n"
          ]
        }
      ],
      "source": [
        "print(\"After concatinating context, the shape of x:\", x_with_context.shape)"
      ]
    },
    {
      "cell_type": "markdown",
      "metadata": {
        "id": "1jyJP3qjwpzG"
      },
      "source": [
        "Since we are designing an MLP network, we might want to flatten x to a 1-D array as its a single training sample."
      ]
    },
    {
      "cell_type": "code",
      "execution_count": null,
      "metadata": {
        "execution": {
          "iopub.execute_input": "2024-01-02T10:01:44.884697Z",
          "iopub.status.busy": "2024-01-02T10:01:44.884325Z",
          "iopub.status.idle": "2024-01-02T10:01:44.889056Z",
          "shell.execute_reply": "2024-01-02T10:01:44.888138Z",
          "shell.execute_reply.started": "2024-01-02T10:01:44.884669Z"
        },
        "id": "URWRAotbwosc"
      },
      "outputs": [],
      "source": [
        "x_with_context_flattened = x_with_context.reshape(-1)"
      ]
    },
    {
      "cell_type": "code",
      "source": [
        "print(\"After flattening, the shape of x:\", x_with_context_flattened.shape)"
      ],
      "metadata": {
        "colab": {
          "base_uri": "https://localhost:8080/"
        },
        "id": "J9JuFAtUpNDu",
        "outputId": "efc48d9f-6d95-4521-f82c-0742daac3bcf"
      },
      "execution_count": null,
      "outputs": [
        {
          "output_type": "stream",
          "name": "stdout",
          "text": [
            "After flattening, the shape of x: (588,)\n"
          ]
        }
      ]
    },
    {
      "cell_type": "markdown",
      "source": [
        "Visualizing the data is important! It can help you understand the underlying distribution, identify patterns, trends and anomalies and even help guide you towards selecting an appropriate model for the task. Below is an example on how one might go about plotting MFCC's with Matplotlib. NOTE: The sample has been flipped and transposed so that the visualization is consistent with how MFCC;s are typically visualized.Here, The x-axis represents timesteps and the y-axis represents the MFCC's."
      ],
      "metadata": {
        "id": "kFUNuSVDp1nL"
      }
    },
    {
      "cell_type": "code",
      "source": [
        "import matplotlib.pyplot as plt\n",
        "import matplotlib\n",
        "\n",
        "\n",
        "fig, ax = plt.subplots()\n",
        "im = ax.imshow(np.flip(x_with_context, axis=1).T, interpolation='nearest', vmin=-10.0, vmax=60.0, cmap=matplotlib.cm.viridis, origin='lower')\n",
        "ax.set_title('x_with_context')\n",
        "fig.colorbar(im)\n",
        "plt.show()"
      ],
      "metadata": {
        "colab": {
          "base_uri": "https://localhost:8080/",
          "height": 452
        },
        "id": "aqgEgHCbp3nA",
        "outputId": "a33ade57-bf36-4d09-ed4a-64ad021794f5"
      },
      "execution_count": null,
      "outputs": [
        {
          "output_type": "display_data",
          "data": {
            "text/plain": [
              "<Figure size 640x480 with 2 Axes>"
            ],
            "image/png": "[encoded data removed]"
          },
          "metadata": {}
        }
      ]
    }
  ],
  "metadata": {
    "colab": {
      "provenance": []
    },
    "kaggle": {
      "accelerator": "gpu",
      "dataSources": [
        {
          "databundleVersionId": 7400071,
          "sourceId": 66694,
          "sourceType": "competition"
        }
      ],
      "dockerImageVersionId": 30627,
      "isGpuEnabled": true,
      "isInternetEnabled": true,
      "language": "python",
      "sourceType": "notebook"
    },
    "kernelspec": {
      "display_name": "Python 3 (ipykernel)",
      "language": "python",
      "name": "python3"
    },
    "language_info": {
      "codemirror_mode": {
        "name": "ipython",
        "version": 3
      },
      "file_extension": ".py",
      "mimetype": "text/x-python",
      "name": "python",
      "nbconvert_exporter": "python",
      "pygments_lexer": "ipython3",
      "version": "3.9.6"
    }
  },
  "nbformat": 4,
  "nbformat_minor": 0
}