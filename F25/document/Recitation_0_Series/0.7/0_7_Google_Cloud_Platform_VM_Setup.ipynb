{
  "nbformat": 4,
  "nbformat_minor": 0,
  "metadata": {
    "colab": {
      "provenance": []
    },
    "kernelspec": {
      "name": "python3",
      "display_name": "Python 3"
    },
    "language_info": {
      "name": "python"
    }
  },
  "cells": [
    {
      "cell_type": "markdown",
      "source": [
        "[![Open In Colab](https://colab.research.google.com/assets/colab-badge.svg)](\n",
        "https://colab.research.google.com/github/CMU-IDeeL/CMU-IDeeL.github.io/blob/master/F25/document/Recitation_0_Series/0.7/0_7_Google_Cloud_Platform_VM_Setup.ipynb)"
      ],
      "metadata": {
        "id": "Qfp-Ep55dmbY"
      }
    },
    {
      "cell_type": "markdown",
      "source": [
        "## Google Cloud Account Setup"
      ],
      "metadata": {
        "id": "fQbvqIPwyEx1"
      }
    },
    {
      "cell_type": "markdown",
      "source": [
        "### CPU Setup.sh script\n"
      ],
      "metadata": {
        "id": "q7RYRJ90QJYv"
      }
    },
    {
      "cell_type": "code",
      "source": [
        "sudo apt update\n",
        "sudo apt install python3 python3-dev python3-venv\n",
        "sudo apt-get install wget\n",
        "sudo apt-get install unzip\n",
        "wget https://bootstrap.pypa.io/get-pip.py\n",
        "sudo python3 get-pip.py\n",
        "\n",
        "curl https://raw.githubusercontent.com/GoogleCloudPlatform/compute-gpu-installation/main/linux/install_gpu_driver.py --output install_gpu_driver.py\n",
        "sudo python3 install_gpu_driver.py\n",
        "\n",
        "pip3 install wandb --quiet\n",
        "pip3 install --upgrade --force-reinstall --no-deps kaggle==1.5.8\n",
        "pip3 install torch\n",
        "pip3 install torchsummary\n",
        "pip3 install pandas\n",
        "pip3 install scikit-learn\n",
        "pip3 install matplotlib\n",
        "pip3 install onnx\n",
        "pip3 install slugify\n",
        "pip3 install tqdm\n",
        "\n",
        "mkdir .kaggle\n",
        "echo '{\"username\": \"Your Kaggle Username\", \"key\": \"Your Kaggle Key\"}' > .kaggle/kaggle.json\n",
        "chmod 600 .kaggle/kaggle.json\n",
        "sudo ln -s /.local/bin/kaggle /usr/bin/kaggle"
      ],
      "metadata": {
        "id": "5ZpLXjTwQLGu"
      },
      "execution_count": null,
      "outputs": []
    },
    {
      "cell_type": "markdown",
      "source": [
        "### GPU Setup.sh script"
      ],
      "metadata": {
        "id": "pQc9_FjjyO3C"
      }
    },
    {
      "cell_type": "code",
      "execution_count": null,
      "metadata": {
        "id": "k2FJRk1GxpmZ"
      },
      "outputs": [],
      "source": [
        "sudo apt update\n",
        "sudo apt install -y python3 python3-dev python3-venv wget unzip\n",
        "wget https://bootstrap.pypa.io/get-pip.py\n",
        "sudo python3 get-pip.py\n",
        "sudo dpkg --configure -a\n",
        "wget https://developer.download.nvidia.com/compute/cuda/repos/ubuntu2004/x86_64/cuda-ubuntu2004.pin\n",
        "sudo mv cuda-ubuntu2004.pin /etc/apt/preferences.d/cuda-repository-pin-600\n",
        "\n",
        "sudo apt-key adv --fetch-keys http://developer.download.nvidia.com/compute/cuda/repos/ubuntu2004/x86_64/7fa2af80.pub\n",
        "sudo add-apt-repository \"deb http://developer.download.nvidia.com/compute/cuda/repos/ubuntu2004/x86_64 /\"\n",
        "sudo apt update\n",
        "sudo apt install -y cuda-11-8\n",
        "\n",
        "echo 'export PATH=/usr/local/cuda-11.8/bin:$PATH' >> ~/.bashrc\n",
        "echo 'export LD_LIBRARY_PATH=/usr/local/cuda-11.8/lib64:$LD_LIBRARY_PATH' >> ~/.bashrc\n",
        "source ~/.bashrc\n",
        "\n",
        "curl https://raw.githubusercontent.com/GoogleCloudPlatform/compute-gpu-installation/main/linux/install_gpu_driver.py --output install_gpu_driver.py\n",
        "sudo python3 install_gpu_driver.py\n",
        "\n",
        "pip3 install --upgrade pip\n",
        "pip3 install \\\n",
        "    wandb \\\n",
        "    numpy==1.26.4 \\\n",
        "    pandas \\\n",
        "    scikit-learn \\\n",
        "    matplotlib \\\n",
        "    onnx \\\n",
        "    python-slugify \\\n",
        "    tqdm \\\n",
        "    notebook \\\n",
        "    torchsummaryX \\\n",
        "    torchinfo \\\n",
        "    python-Levenshtein \\\n",
        "    pytorch-nlp==0.5.0 \\\n",
        "    pyyaml \\\n",
        "    gcovr \\\n",
        "    ipywidgets\n",
        "pip3 install torch==2.1.0 torchvision==0.16.0 torchaudio==2.1.0 --extra-index-url https://download.pytorch.org/whl/cu118\n",
        "\n",
        "pip3 install --upgrade --force-reinstall --no-deps kaggle==1.5.8\n",
        "mkdir -p ~/.kaggle\n",
        "echo '{\"username\": \"your_username\", \"key\": \"your_key\"}' > ~/.kaggle/kaggle.json\n",
        "export PATH=$HOME/.local/bin:$PATH\n",
        "echo 'export PATH=$HOME/.local/bin:$PATH' >> ~/.bashrc\n",
        "source ~/.bashrc\n",
        "\n",
        "chmod 600 ~/.kaggle/kaggle.json\n",
        "sudo ln -s ~/.local/bin/kaggle /usr/bin/kaggle"
      ]
    },
    {
      "cell_type": "markdown",
      "source": [
        "### Start the jupyter server\n",
        "> jupyter-notebook\n",
        "\n",
        "if jupyter command not found then execute following and try again\n",
        "> !source ~/.bashrc\n",
        "\n",
        "Now connect with the kernerl"
      ],
      "metadata": {
        "id": "NdA7z4DXO7-q"
      }
    },
    {
      "cell_type": "markdown",
      "source": [
        "# Make file executable"
      ],
      "metadata": {
        "id": "G9HnUPo7QOGS"
      }
    },
    {
      "cell_type": "code",
      "source": [
        "chmod +x setup.sh"
      ],
      "metadata": {
        "id": "F9jkv12kQNl0"
      },
      "execution_count": null,
      "outputs": []
    },
    {
      "cell_type": "markdown",
      "source": [
        "# Testing"
      ],
      "metadata": {
        "id": "2Pp7W2k6Qcqe"
      }
    },
    {
      "cell_type": "code",
      "source": [
        "import torch\n",
        "x = torch.rand(5, 3)\n",
        "print(\"Is the GPU available:\", torch.cuda.is_available())\n",
        "print(\"Output of a random tensor \\n\",x)"
      ],
      "metadata": {
        "id": "l1YC7qm0QeBr"
      },
      "execution_count": null,
      "outputs": []
    },
    {
      "cell_type": "markdown",
      "source": [
        "## If you face issues with connecting to hosts, open your ssh folder and clear out the known hosts using a text editor. Try connecting to the host again\n",
        "\n",
        "# Good Luck!"
      ],
      "metadata": {
        "id": "wne405ImTX_J"
      }
    },
    {
      "cell_type": "code",
      "source": [],
      "metadata": {
        "id": "OYV1qiY0ToIS"
      },
      "execution_count": null,
      "outputs": []
    }
  ]
}