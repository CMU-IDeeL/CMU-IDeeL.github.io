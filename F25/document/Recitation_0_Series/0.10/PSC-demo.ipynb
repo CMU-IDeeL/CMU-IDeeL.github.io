{
 "cells": [
  {
   "cell_type": "markdown",
   "metadata": {},
   "source": [
    "## **PSC Users**"
   ]
  },
  {
   "cell_type": "markdown",
   "metadata": {},
   "source": [
    "### 1️⃣ **Step 1 Setting Up Your Environment on Bridges2**\n",
    "\n",
    "❗️⚠️ For this homework, we are **providing shared Datasets and a shared Conda environment** for the entire class.\n",
    "\n",
    "❗️⚠️ So for PSC users, **do not download the data yourself** and **do not need to manually install the packages**!"
   ]
  },
  {
   "cell_type": "markdown",
   "metadata": {},
   "source": [
    "Follow these steps to set up the environment and start a Jupyter notebook on Bridges2:\n",
    "\n",
    "To run your notebook more efficiently on PSC, we need to use a **Jupyter Server** hosted on a compute node.\n",
    "\n",
    "You can use your prefered way of connecting to the Jupyter Server. \n"
   ]
  },
  {
   "cell_type": "markdown",
   "metadata": {},
   "source": [
    "**The recommended way of connecting is:**\n",
    "\n",
    "#### **Connect in VSCode**\n",
    "SSH into Bridges2 and navigate to your **Jet directory** (`Jet/home/<your_username>`). Upload your notebook there, and then connect to the Jupyter Server from that directory."
   ]
  },
  {
   "cell_type": "markdown",
   "metadata": {},
   "source": [
    "#### **1. SSH into Bridges2**\n",
    "1）Open VS Code and click on the `Extensions` icon in the left sidebar. Make sure the \"**Remote - SSH**\" extension is installed.\n",
    "\n",
    "2）Open the command palette (**Shift+Command+P** on Mac, **Ctrl+Shift+P** on Windows). A search box will appear at the top center. Choose `\"Remote-SSH: Add New SSH Host\"`, then enter:\n",
    "\n",
    "```bash\n",
    "ssh <your_username>@bridges2.psc.edu #change <your_username> to your username\n",
    "```\n",
    "\n",
    "Next, choose `\"/Users/<your_username>/.ssh/config\"` as the config file. A dialog will appear in the bottom right saying \"Host Added\". Click `\"Connect\"`, and then enter your password.\n",
    "\n",
    "(Note: After adding the host once, you can later use `\"Remote-SSH: Connect to Host\"` and select \"bridges2.psc.edu\" from the list.)\n",
    "\n",
    "3）Once connected, click `\"Explorer\"` in the left sidebar > \"Open Folder\", and navigate to your home directory under the project grant:\n",
    "```bash\n",
    "/jet/home/<your_username>  #change <your_username> to your username\n",
    "```\n",
    "\n",
    "4）You can now drag your notebook files directly into the right-hand pane (your remote home directory), or upload them using `scp` into your folder."
   ]
  },
  {
   "cell_type": "markdown",
   "metadata": {},
   "source": [
    "> ❗️⚠️ The following steps should be executed in the **VSCode integrated terminal**."
   ]
  },
  {
   "cell_type": "markdown",
   "metadata": {},
   "source": [
    "### **2. Navigate to Your Directory**\n",
    "Make sure to use this `/jet/home/<your_username>` as your working directory, since all subsequent operations (up to submission) are based on this path.\n",
    "```bash\n",
    "cd /jet/home/<your_username>  #change <your_username> to your username\n",
    "```"
   ]
  },
  {
   "cell_type": "markdown",
   "metadata": {},
   "source": [
    "#### **3. Request a Compute Node**\n",
    "```bash\n",
    "interact -p GPU-shared --gres=gpu:v100-32:1 -t 8:00:00 -A cis250019p\n",
    "```"
   ]
  },
  {
   "cell_type": "markdown",
   "metadata": {},
   "source": [
    "#### **4. Load the Anaconda Module**\n",
    "```bash\n",
    "module load anaconda3\n",
    "```"
   ]
  },
  {
   "cell_type": "markdown",
   "metadata": {},
   "source": [
    "#### **5. Activate the provided HW1 Environment**\n",
    "```bash\n",
    "conda deactivate # First, deactivate any existing Conda environment\n",
    "conda activate /ocean/projects/cis250019p/mzhang23/TA/HW1P2/envs/hw1p2_env && export PYTHONNOUSERSITE=1\n",
    "```"
   ]
  },
  {
   "cell_type": "markdown",
   "metadata": {},
   "source": [
    "#### **6. Start Jupyter Notebook**\n",
    "Launch Jupyter Notebook:\n",
    "```bash\n",
    "jupyter notebook --no-browser --ip=0.0.0.0\n",
    "```\n",
    "\n",
    "Go to **Kernel** → **Select Another Kernel** → **Existing Jupyter Server**\n",
    "   Enter the URL of the Jupyter Server:```http://{hostname}:{port}/tree?token={token}```\n",
    "   \n",
    "   *(Usually, this URL appears in the terminal output after you run `jupyter notebook --no-browser --ip=0.0.0.0`, in a line like:  “Jupyter Server is running at: http://...”)*\n",
    "\n",
    "   - eg: `http://v011.ib.bridges2.psc.edu:8888/tree?token=e4b302434e68990f28bc2b4ae8d216eb87eecb7090526249`\n",
    "\n",
    "> **Note**: Replace `{hostname}`, `{port}` and `{token}` with your actual values from the Jupyter output."
   ]
  },
  {
   "cell_type": "markdown",
   "metadata": {},
   "source": [
    "#### **7. Import dependencies**\n",
    "\n",
    "After launching the Jupyter notebook, you can run the cells directly inside the notebook — no need to use the terminal for the remaining steps.\n",
    "\n",
    "First, import the dependencies.  \n",
    "(*If you followed the previous steps and correctly activated our shared `hw1p2` environment, you do **not** need to install anything manually.*)"
   ]
  },
  {
   "cell_type": "code",
   "execution_count": null,
   "metadata": {},
   "outputs": [],
   "source": [
    "#Make sure you are in your directory\n",
    "!pwd #should be /jet/home/<your_username>, if not, uncomment the following line and replace with your actual username:\n",
    "%cd /jet/home/<your_username>  #TODO: replace the \"<your_username>\" to yours"
   ]
  },
  {
   "cell_type": "code",
   "execution_count": 1,
   "metadata": {},
   "outputs": [
    {
     "name": "stdout",
     "output_type": "stream",
     "text": [
      "Device:  cuda\n"
     ]
    }
   ],
   "source": [
    "import torch\n",
    "import torch.nn as nn\n",
    "import numpy as np\n",
    "from torchsummaryX import summary\n",
    "import sklearn\n",
    "import gc\n",
    "import zipfile\n",
    "import json\n",
    "import bisect\n",
    "import pandas as pd\n",
    "from tqdm.auto import tqdm\n",
    "import os\n",
    "import datetime\n",
    "import wandb\n",
    "import yaml\n",
    "import torchaudio.transforms as tat\n",
    "import torchaudio\n",
    "device = 'cuda' if torch.cuda.is_available() else 'cpu'\n",
    "print(\"Device: \", device)"
   ]
  },
  {
   "cell_type": "markdown",
   "metadata": {},
   "source": [
    "### 2️⃣ **Step 2: Set up Kaggle API Authentication**"
   ]
  },
  {
   "cell_type": "code",
   "execution_count": null,
   "metadata": {},
   "outputs": [],
   "source": [
    "# TODO: Use the same Kaggle code from HW1P2\n",
    "!mkdir /jet/home/<your_username>/.kaggle #TODO: replace the \"<your_username>\" to yours\n",
    "\n",
    "with open(\"/jet/home/<your_username>/.kaggle/kaggle.json\", \"w+\") as f: #TODO: replace the \"<your_username>\" to yours\n",
    "    f.write('{\"username\":\"<your_username>\",\"key\":\"<your_key>\"}')\n",
    "    # TODO: Put your kaggle username & key here\n",
    "\n",
    "!chmod 600 /jet/home/<your_username>/.kaggle/kaggle.json #TODO: replace the \"<your_username>\" to yours"
   ]
  },
  {
   "cell_type": "markdown",
   "metadata": {},
   "source": [
    "### 3️⃣ **Step 3: Get Data**\n",
    "\n",
    "❗️⚠️ The data used in this assignment is **already stored in a shared, read-only folder, so you do not need to manually download anything**.\n",
    "\n",
    "Instead, just make sure to replace the dataset path in your notebook code with the correct path from the shared directory.\n",
    "\n",
    "You can run the following block to explore the shared directory structure:"
   ]
  },
  {
   "cell_type": "code",
   "execution_count": 6,
   "metadata": {},
   "outputs": [
    {
     "name": "stdout",
     "output_type": "stream",
     "text": [
      "Files in shared hw1p2 dataset: ['11785-f25-hw1p2', 'hw-1-p-2-f-25-sandbox-testing-11785.zip']\n"
     ]
    }
   ],
   "source": [
    "import os\n",
    "data_path = \"/ocean/projects/cis250019p/mzhang23/TA/HW1P2/hw1p2_data\" #Shared data path, do not need to change the username to yours\n",
    "print(\"Files in shared hw1p2 dataset:\", os.listdir(data_path))"
   ]
  },
  {
   "cell_type": "code",
   "execution_count": 7,
   "metadata": {},
   "outputs": [
    {
     "name": "stdout",
     "output_type": "stream",
     "text": [
      "/bin/bash: apt-get: command not found\n",
      "\u001b[38;5;33m/ocean/projects/cis250019p/mzhang23/TA/HW1P2/hw1p2_data\u001b[0m\n",
      "├── \u001b[38;5;33m11785-f25-hw1p2\u001b[0m\n",
      "│   ├── \u001b[38;5;33mdev-clean\u001b[0m\n",
      "│   ├── \u001b[38;5;33mtest-clean\u001b[0m\n",
      "│   └── \u001b[38;5;33mtrain-clean-100\u001b[0m\n",
      "└── \u001b[38;5;40mhw-1-p-2-f-25-sandbox-testing-11785.zip\u001b[0m\n",
      "\n",
      "4 directories, 1 file\n"
     ]
    }
   ],
   "source": [
    "!apt-get install tree\n",
    "!tree -L 2 /ocean/projects/cis250019p/mzhang23/TA/HW1P2/hw1p2_data"
   ]
  }
 ],
 "metadata": {
  "kernelspec": {
   "display_name": "Python 3 (ipykernel)",
   "language": "python",
   "name": "python3"
  },
  "language_info": {
   "codemirror_mode": {
    "name": "ipython",
    "version": 3
   },
   "file_extension": ".py",
   "mimetype": "text/x-python",
   "name": "python",
   "nbconvert_exporter": "python",
   "pygments_lexer": "ipython3",
   "version": "3.10.18"
  }
 },
 "nbformat": 4,
 "nbformat_minor": 2
}
