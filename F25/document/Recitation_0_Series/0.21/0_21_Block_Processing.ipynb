{
  "cells": [
    {
      "cell_type": "markdown",
      "source": [
        "[![Open In Colab](https://colab.research.google.com/assets/colab-badge.svg)](\n",
        "https://colab.research.google.com/github/CMU-IDeeL/CMU-IDeeL.github.io/blob/master/F25/document/Recitation_0_Series/0.21/0_21_Block_Processing.ipynb)"
      ],
      "metadata": {
        "id": "-IT3IuvhArFX"
      }
    },
    {
      "cell_type": "markdown",
      "metadata": {
        "id": "VLy87TNiKzAT"
      },
      "source": [
        "# Rec 0: Block Processing\n",
        "\n",
        "## What is a `Layer`\n",
        "A layer is the atomic computation unit in a neural network. It:\n",
        "\n",
        "Takes input tensors\n",
        "Applies operations such as nn.Conv2d, nn.Linear, nn.BatchNorm2d, nn.ReLU\n",
        "Produces output tensors\n",
        "Contains learnable parameters that are optimized during training\n",
        "\n",
        "## What is a `Block`:\n",
        "A neural network block:\n",
        "Can represent a single layer, a set of layers, or the entire model.\n",
        "These blocks can be combined recursively into larger, more complex structures.\n",
        "This modular approach allows for compact code while enabling the implementation of complex networks.\n",
        "\n",
        "A block groups layers into a reusable component (e.g., Conv→BN→ReLU, residual unit), enabling modular, reusable, and comprehensible neural architectures.\n",
        "\n",
        "Motivation:\n",
        "- For large models with many layers, it's easier to manage and understand if we break them down into smaller, more manageable blocks.\n",
        "- This approach allows us to focus on the core functionality of each block, rather than the entire model.\n",
        "- It also makes the code more modular and easier to modify.\n",
        "\n",
        "# ![Neural Network Blocks](https://classic.d2l.ai/_images/blocks.svg \"Multiple layers are combined into blocks, forming repeating patterns of larger models.\")"
      ]
    },
    {
      "cell_type": "markdown",
      "metadata": {
        "id": "EWdJzVPuKzAX"
      },
      "source": [
        "# Pytorch Tools for Modularization\n",
        "PyTorch provides tools to help modularize and manage complexity in model building."
      ]
    },
    {
      "cell_type": "code",
      "execution_count": null,
      "metadata": {
        "id": "S261juZ1KzAY",
        "colab": {
          "base_uri": "https://localhost:8080/"
        },
        "outputId": "cf5ca928-ac1f-4eb5-f507-8bcb9145f44b"
      },
      "outputs": [
        {
          "output_type": "stream",
          "name": "stdout",
          "text": [
            "Requirement already satisfied: torchinfo in /usr/local/lib/python3.11/dist-packages (1.8.0)\n"
          ]
        }
      ],
      "source": [
        "!pip install torchinfo\n",
        "import torch\n",
        "import torch.nn as nn\n",
        "import torch.nn.functional as F\n",
        "from torchinfo import summary"
      ]
    },
    {
      "cell_type": "markdown",
      "metadata": {
        "id": "JNLvwhXlKzAZ"
      },
      "source": [
        "# `nn.Module`: The main building block!\n",
        "- Base class for all neural network modules. Any custom model or submodule must inherit from this base class.\n",
        "- Modules can also contain other Modules, allowing to nest them in a tree structure.\n",
        "- You can assign the submodules as regular attributes. Conv2d, Linear, BatchNorm2d all subclass nn.Module.   \n"
      ]
    },
    {
      "cell_type": "markdown",
      "metadata": {
        "id": "XmPm4mFAKzAZ"
      },
      "source": [
        "## Example: Simple CNN Classifier\n",
        "The following is a simple CNN classifier with two convolutional layers and two fully connected layers.\n",
        "\n",
        "Problem?\n",
        "- If we want to add a layer we have to again write lots of code in the __init__ and in the forward function.\n",
        "- Also, if we have some common block that we want to use in another model, e.g. the 3x3 conv + batchnorm + relu, we have to write it again.\n",
        "\n",
        "\n"
      ]
    },
    {
      "cell_type": "code",
      "execution_count": null,
      "metadata": {
        "id": "N9fjeuQ_KzAa",
        "outputId": "e9ea3e5c-7d69-4eba-b8d8-90a5c1ebf06c",
        "colab": {
          "base_uri": "https://localhost:8080/"
        }
      },
      "outputs": [
        {
          "output_type": "execute_result",
          "data": {
            "text/plain": [
              "==========================================================================================\n",
              "Layer (type:depth-idx)                   Output Shape              Param #\n",
              "==========================================================================================\n",
              "SimpleCNNClassifier                      [1, 10]                   --\n",
              "├─Conv2d: 1-1                            [1, 32, 28, 28]           320\n",
              "├─BatchNorm2d: 1-2                       [1, 32, 28, 28]           64\n",
              "├─Conv2d: 1-3                            [1, 64, 28, 28]           18,496\n",
              "├─BatchNorm2d: 1-4                       [1, 64, 28, 28]           128\n",
              "├─Linear: 1-5                            [1, 1024]                 51,381,248\n",
              "├─Linear: 1-6                            [1, 10]                   10,250\n",
              "==========================================================================================\n",
              "Total params: 51,410,506\n",
              "Trainable params: 51,410,506\n",
              "Non-trainable params: 0\n",
              "Total mult-adds (Units.MEGABYTES): 66.14\n",
              "==========================================================================================\n",
              "Input size (MB): 0.00\n",
              "Forward/backward pass size (MB): 1.21\n",
              "Params size (MB): 205.64\n",
              "Estimated Total Size (MB): 206.86\n",
              "=========================================================================================="
            ]
          },
          "metadata": {},
          "execution_count": 5
        }
      ],
      "source": [
        "class SimpleCNNClassifier(nn.Module):\n",
        "    def __init__(self, in_c, n_classes):\n",
        "        super().__init__()\n",
        "        self.conv1 = nn.Conv2d(in_c, 32, kernel_size=3, stride=1, padding=1)\n",
        "        self.bn1 = nn.BatchNorm2d(32)\n",
        "\n",
        "        self.conv2 = nn.Conv2d(32, 64, kernel_size=3, stride=1, padding=1)\n",
        "        self.bn2 = nn.BatchNorm2d(64)\n",
        "\n",
        "        self.fc1 = nn.Linear(64 * 28 * 28, 1024)\n",
        "        self.fc2 = nn.Linear(1024, n_classes)\n",
        "\n",
        "    def forward(self, x):\n",
        "        x = self.conv1(x) # 3x3 convolution\n",
        "        x = self.bn1(x)   # batch normalization\n",
        "        x = F.relu(x)     # ReLU activation\n",
        "\n",
        "        x = self.conv2(x) # 3x3 convolution\n",
        "        x = self.bn2(x)   # batch normalization\n",
        "        x = F.relu(x)     # ReLU activation\n",
        "\n",
        "        x = x.view(x.size(0), -1) # flatten the tensor\n",
        "\n",
        "        x = self.fc1(x)  # fully connected layer\n",
        "        x = F.sigmoid(x) # sigmoid activation\n",
        "        x = self.fc2(x)  # fully connected layer\n",
        "\n",
        "        return x\n",
        "\n",
        "# Summary\n",
        "summary(SimpleCNNClassifier(in_c=1, n_classes=10), input_size=(1, 1, 28, 28))"
      ]
    },
    {
      "cell_type": "markdown",
      "metadata": {
        "id": "Wh6MiNzuKzAb"
      },
      "source": [
        "## `nn.Sequential`: Stack and merge layers!\n",
        "- A sequential container. Modules will be added to it in the order they are passed in the constructor.\n",
        "- The data is passed through all the modules in the same order as they are added to the `Sequential` container.\n",
        "- You can use `nn.Sequential` to create a simple neural networks.\n",
        "- You can also use `nn.Sequential` to create a more complex network by adding multiple instances of it.\n",
        "\n"
      ]
    },
    {
      "cell_type": "code",
      "execution_count": null,
      "metadata": {
        "id": "hY4ykP5iKzAb",
        "outputId": "ddeebc7c-305c-4c01-dde7-cb83a2c81015",
        "colab": {
          "base_uri": "https://localhost:8080/"
        }
      },
      "outputs": [
        {
          "output_type": "execute_result",
          "data": {
            "text/plain": [
              "==========================================================================================\n",
              "Layer (type:depth-idx)                   Output Shape              Param #\n",
              "==========================================================================================\n",
              "SimpleCNNClassifier                      [1, 10]                   --\n",
              "├─Sequential: 1-1                        [1, 32, 28, 28]           --\n",
              "│    └─Conv2d: 2-1                       [1, 32, 28, 28]           320\n",
              "│    └─BatchNorm2d: 2-2                  [1, 32, 28, 28]           64\n",
              "│    └─ReLU: 2-3                         [1, 32, 28, 28]           --\n",
              "├─Sequential: 1-2                        [1, 64, 28, 28]           --\n",
              "│    └─Conv2d: 2-4                       [1, 64, 28, 28]           18,496\n",
              "│    └─BatchNorm2d: 2-5                  [1, 64, 28, 28]           128\n",
              "│    └─ReLU: 2-6                         [1, 64, 28, 28]           --\n",
              "├─Sequential: 1-3                        [1, 10]                   --\n",
              "│    └─Linear: 2-7                       [1, 1024]                 51,381,248\n",
              "│    └─Sigmoid: 2-8                      [1, 1024]                 --\n",
              "│    └─Linear: 2-9                       [1, 10]                   10,250\n",
              "==========================================================================================\n",
              "Total params: 51,410,506\n",
              "Trainable params: 51,410,506\n",
              "Non-trainable params: 0\n",
              "Total mult-adds (Units.MEGABYTES): 66.14\n",
              "==========================================================================================\n",
              "Input size (MB): 0.00\n",
              "Forward/backward pass size (MB): 1.21\n",
              "Params size (MB): 205.64\n",
              "Estimated Total Size (MB): 206.86\n",
              "=========================================================================================="
            ]
          },
          "metadata": {},
          "execution_count": 6
        }
      ],
      "source": [
        "class SimpleCNNClassifier(nn.Module):\n",
        "    def __init__(self, in_c, n_classes):\n",
        "        super().__init__()\n",
        "        self.conv_block1 = nn.Sequential(\n",
        "            nn.Conv2d(in_c, 32, kernel_size=3, stride=1, padding=1),\n",
        "            nn.BatchNorm2d(32),\n",
        "            nn.ReLU()\n",
        "        )\n",
        "\n",
        "        self.conv_block2 = nn.Sequential(\n",
        "            nn.Conv2d(32, 64, kernel_size=3, stride=1, padding=1),\n",
        "            nn.BatchNorm2d(64),\n",
        "            nn.ReLU()\n",
        "        )\n",
        "\n",
        "        self.decoder = nn.Sequential(\n",
        "            nn.Linear(64 * 28 * 28, 1024),\n",
        "            nn.Sigmoid(),\n",
        "            nn.Linear(1024, n_classes)\n",
        "        )\n",
        "\n",
        "\n",
        "    def forward(self, x):\n",
        "        x = self.conv_block1(x)\n",
        "        x = self.conv_block2(x)\n",
        "        x = x.view(x.size(0), -1) # flat\n",
        "        x = self.decoder(x)\n",
        "        return x\n",
        "\n",
        "\n",
        "# Summary\n",
        "summary(SimpleCNNClassifier(in_c=1, n_classes=10), input_size=(1, 1, 28, 28))"
      ]
    },
    {
      "cell_type": "markdown",
      "metadata": {
        "id": "0VaFaaIQKzAc"
      },
      "source": [
        "Much better! But still not perfect. Did you notice that self.conv_block1 and self.conv_block2 look exactly the same? Can we do better?\n",
        "- Yes! We could create a function that reteurns a nn.Sequential to even simplify the code! Then we can just call this function in our Module\n"
      ]
    },
    {
      "cell_type": "code",
      "execution_count": null,
      "metadata": {
        "id": "UFKPiyNtKzAc",
        "outputId": "9b0dd42b-2ea0-47b4-8e0d-9d62a59198e8",
        "colab": {
          "base_uri": "https://localhost:8080/"
        }
      },
      "outputs": [
        {
          "output_type": "execute_result",
          "data": {
            "text/plain": [
              "==========================================================================================\n",
              "Layer (type:depth-idx)                   Output Shape              Param #\n",
              "==========================================================================================\n",
              "SimpleCNNClassifier                      [1, 10]                   --\n",
              "├─Sequential: 1-1                        [1, 32, 28, 28]           --\n",
              "│    └─Conv2d: 2-1                       [1, 32, 28, 28]           320\n",
              "│    └─BatchNorm2d: 2-2                  [1, 32, 28, 28]           64\n",
              "│    └─ReLU: 2-3                         [1, 32, 28, 28]           --\n",
              "├─Sequential: 1-2                        [1, 64, 28, 28]           --\n",
              "│    └─Conv2d: 2-4                       [1, 64, 28, 28]           18,496\n",
              "│    └─BatchNorm2d: 2-5                  [1, 64, 28, 28]           128\n",
              "│    └─ReLU: 2-6                         [1, 64, 28, 28]           --\n",
              "├─Sequential: 1-3                        [1, 10]                   --\n",
              "│    └─Linear: 2-7                       [1, 1024]                 51,381,248\n",
              "│    └─Sigmoid: 2-8                      [1, 1024]                 --\n",
              "│    └─Linear: 2-9                       [1, 10]                   10,250\n",
              "==========================================================================================\n",
              "Total params: 51,410,506\n",
              "Trainable params: 51,410,506\n",
              "Non-trainable params: 0\n",
              "Total mult-adds (Units.MEGABYTES): 66.14\n",
              "==========================================================================================\n",
              "Input size (MB): 0.00\n",
              "Forward/backward pass size (MB): 1.21\n",
              "Params size (MB): 205.64\n",
              "Estimated Total Size (MB): 206.86\n",
              "=========================================================================================="
            ]
          },
          "metadata": {},
          "execution_count": 7
        }
      ],
      "source": [
        "def conv_block(in_f, out_f, *args, **kwargs):\n",
        "    return nn.Sequential(\n",
        "        nn.Conv2d(in_f, out_f, *args, **kwargs),\n",
        "        nn.BatchNorm2d(out_f),\n",
        "        nn.ReLU()\n",
        "    )\n",
        "\n",
        "class SimpleCNNClassifier(nn.Module):\n",
        "    def __init__(self, in_c, n_classes):\n",
        "        super().__init__()\n",
        "        self.conv_block1 = conv_block(in_c, 32, kernel_size=3, padding=1)\n",
        "        self.conv_block2 = conv_block(32, 64, kernel_size=3, padding=1)\n",
        "\n",
        "        self.decoder = nn.Sequential(\n",
        "            nn.Linear(64 * 28 * 28, 1024),\n",
        "            nn.Sigmoid(),\n",
        "            nn.Linear(1024, n_classes)\n",
        "        )\n",
        "\n",
        "    def forward(self, x):\n",
        "        x = self.conv_block1(x)\n",
        "        x = self.conv_block2(x)\n",
        "        x = x.view(x.size(0), -1) # flat\n",
        "        x = self.decoder(x)\n",
        "        return x\n",
        "\n",
        "# Summary\n",
        "summary(SimpleCNNClassifier(in_c=1, n_classes=10), input_size=(1, 1, 28, 28))"
      ]
    },
    {
      "cell_type": "markdown",
      "metadata": {
        "id": "xx7sFgnQKzAc"
      },
      "source": [
        "Even cleaner! Still conv_block1 and conv_block2 are almost the same! We can do away with the conv_block function and merge them using nn.Sequential"
      ]
    },
    {
      "cell_type": "code",
      "execution_count": null,
      "metadata": {
        "id": "6WXqIaKJKzAc",
        "outputId": "f6e84e30-e62a-49fb-e78d-4c86a2201aee",
        "colab": {
          "base_uri": "https://localhost:8080/"
        }
      },
      "outputs": [
        {
          "output_type": "execute_result",
          "data": {
            "text/plain": [
              "==========================================================================================\n",
              "Layer (type:depth-idx)                   Output Shape              Param #\n",
              "==========================================================================================\n",
              "SimpleCNNClassifier                      [1, 10]                   --\n",
              "├─Sequential: 1-1                        [1, 64, 28, 28]           --\n",
              "│    └─Sequential: 2-1                   [1, 32, 28, 28]           --\n",
              "│    │    └─Conv2d: 3-1                  [1, 32, 28, 28]           320\n",
              "│    │    └─BatchNorm2d: 3-2             [1, 32, 28, 28]           64\n",
              "│    │    └─ReLU: 3-3                    [1, 32, 28, 28]           --\n",
              "│    └─Sequential: 2-2                   [1, 64, 28, 28]           --\n",
              "│    │    └─Conv2d: 3-4                  [1, 64, 28, 28]           18,496\n",
              "│    │    └─BatchNorm2d: 3-5             [1, 64, 28, 28]           128\n",
              "│    │    └─ReLU: 3-6                    [1, 64, 28, 28]           --\n",
              "├─Sequential: 1-2                        [1, 10]                   --\n",
              "│    └─Linear: 2-3                       [1, 1024]                 51,381,248\n",
              "│    └─Sigmoid: 2-4                      [1, 1024]                 --\n",
              "│    └─Linear: 2-5                       [1, 10]                   10,250\n",
              "==========================================================================================\n",
              "Total params: 51,410,506\n",
              "Trainable params: 51,410,506\n",
              "Non-trainable params: 0\n",
              "Total mult-adds (Units.MEGABYTES): 66.14\n",
              "==========================================================================================\n",
              "Input size (MB): 0.00\n",
              "Forward/backward pass size (MB): 1.21\n",
              "Params size (MB): 205.64\n",
              "Estimated Total Size (MB): 206.86\n",
              "=========================================================================================="
            ]
          },
          "metadata": {},
          "execution_count": 10
        }
      ],
      "source": [
        "class SimpleCNNClassifier(nn.Module):\n",
        "    def __init__(self, in_c, n_classes):\n",
        "        super().__init__()\n",
        "        self.encoder = nn.Sequential(\n",
        "            conv_block(in_c, 32, kernel_size=3, padding=1),\n",
        "            conv_block(32, 64, kernel_size=3, padding=1)\n",
        "        )\n",
        "        self.decoder = nn.Sequential(\n",
        "            nn.Linear(64 * 28 * 28, 1024),\n",
        "            nn.Sigmoid(),\n",
        "            nn.Linear(1024, n_classes)\n",
        "        )\n",
        "\n",
        "\n",
        "    def forward(self, x):\n",
        "        x = self.encoder(x)\n",
        "        x = x.view(x.size(0), -1) # flat\n",
        "        x = self.decoder(x)\n",
        "        return x\n",
        "\n",
        "# Summary\n",
        "summary(SimpleCNNClassifier(in_c=1, n_classes=10), input_size=(1, 1, 28, 28))"
      ]
    },
    {
      "cell_type": "markdown",
      "metadata": {
        "id": "ny0jQuaVKzAd"
      },
      "source": [
        "## Dynamic Sequential: Create multiple layers at once!\n",
        "Dynamic Sequential refers to a way of building a sequence of layers programmatically (i.e., with loops or logic) rather than hardcoding each one manually. In PyTorch, this usually means creating an nn.Sequential block where the number of layers, their configurations, or types are determined dynamically at runtime based on some condition or loop.\n",
        "\n",
        "```python\n",
        "self.encoder = nn.Sequential(\n",
        "            conv_block(in_c, 32, kernel_size=3, padding=1),\n",
        "            conv_block(32, 64, kernel_size=3, padding=1),\n",
        "            conv_block(64, 128, kernel_size=3, padding=1),\n",
        "            conv_block(128, 256, kernel_size=3, padding=1),\n",
        "        )\n",
        "```\n",
        "\n",
        "Would it be nice if we can define the sizes as an array and automatically create all the layers without writing each one of them? Fortunately we can create an array and pass it to `Sequential`.\n",
        "\n"
      ]
    },
    {
      "cell_type": "code",
      "execution_count": null,
      "metadata": {
        "id": "gs0XyhyqKzAd",
        "outputId": "06adb0f7-de87-4005-d80b-32c357fbacca",
        "colab": {
          "base_uri": "https://localhost:8080/"
        }
      },
      "outputs": [
        {
          "output_type": "execute_result",
          "data": {
            "text/plain": [
              "==========================================================================================\n",
              "Layer (type:depth-idx)                   Output Shape              Param #\n",
              "==========================================================================================\n",
              "SimpleCNNClassifier                      [1, 10]                   --\n",
              "├─Sequential: 1-1                        [1, 64, 28, 28]           --\n",
              "│    └─Sequential: 2-1                   [1, 32, 28, 28]           --\n",
              "│    │    └─Conv2d: 3-1                  [1, 32, 28, 28]           320\n",
              "│    │    └─BatchNorm2d: 3-2             [1, 32, 28, 28]           64\n",
              "│    │    └─ReLU: 3-3                    [1, 32, 28, 28]           --\n",
              "│    └─Sequential: 2-2                   [1, 64, 28, 28]           --\n",
              "│    │    └─Conv2d: 3-4                  [1, 64, 28, 28]           18,496\n",
              "│    │    └─BatchNorm2d: 3-5             [1, 64, 28, 28]           128\n",
              "│    │    └─ReLU: 3-6                    [1, 64, 28, 28]           --\n",
              "├─Sequential: 1-2                        [1, 10]                   --\n",
              "│    └─Linear: 2-3                       [1, 1024]                 51,381,248\n",
              "│    └─Sigmoid: 2-4                      [1, 1024]                 --\n",
              "│    └─Linear: 2-5                       [1, 10]                   10,250\n",
              "==========================================================================================\n",
              "Total params: 51,410,506\n",
              "Trainable params: 51,410,506\n",
              "Non-trainable params: 0\n",
              "Total mult-adds (Units.MEGABYTES): 66.14\n",
              "==========================================================================================\n",
              "Input size (MB): 0.00\n",
              "Forward/backward pass size (MB): 1.21\n",
              "Params size (MB): 205.64\n",
              "Estimated Total Size (MB): 206.86\n",
              "=========================================================================================="
            ]
          },
          "metadata": {},
          "execution_count": 11
        }
      ],
      "source": [
        "class SimpleCNNClassifier(nn.Module):\n",
        "    def __init__(self, in_c, n_classes):\n",
        "        super().__init__()\n",
        "        self.enc_sizes = [in_c, 32, 64]\n",
        "\n",
        "        # zip stops when the shortest list is exhausted\n",
        "        conv_blocks = [conv_block(in_f, out_f, kernel_size=3, padding=1)\n",
        "                       for in_f, out_f in zip(self.enc_sizes, self.enc_sizes[1:])]\n",
        "\n",
        "        # Sequential cannot take a list of modules, so we need to unpack it\n",
        "        self.encoder = nn.Sequential(*conv_blocks)\n",
        "\n",
        "        self.decoder = nn.Sequential(\n",
        "            nn.Linear(self.enc_sizes[-1] * 28 * 28, 1024),\n",
        "            nn.Sigmoid(),\n",
        "            nn.Linear(1024, n_classes)\n",
        "        )\n",
        "\n",
        "\n",
        "    def forward(self, x):\n",
        "        x = self.encoder(x)\n",
        "        x = x.view(x.size(0), -1) # flat\n",
        "        x = self.decoder(x)\n",
        "        return x\n",
        "\n",
        "# Summary\n",
        "summary(SimpleCNNClassifier(in_c=1, n_classes=10), input_size=(1, 1, 28, 28))"
      ]
    },
    {
      "cell_type": "code",
      "execution_count": null,
      "metadata": {
        "id": "4nMkTNfYKzAe",
        "outputId": "baaf9f76-f9f1-496e-b41b-afbf56d6933f",
        "colab": {
          "base_uri": "https://localhost:8080/"
        }
      },
      "outputs": [
        {
          "output_type": "stream",
          "name": "stdout",
          "text": [
            "1 32\n",
            "32 64\n"
          ]
        }
      ],
      "source": [
        "sizes = [1, 32, 64]\n",
        "\n",
        "for in_f,out_f in zip(sizes, sizes[1:]):\n",
        "    print(in_f,out_f)"
      ]
    },
    {
      "cell_type": "markdown",
      "metadata": {
        "id": "kVLsnajiKzAe"
      },
      "source": [
        "Now if we just want to add a size, we can easily add a new number to the list. It is a common practice to make the size a parameter."
      ]
    },
    {
      "cell_type": "code",
      "execution_count": null,
      "metadata": {
        "id": "WmYMzrX-KzAe",
        "outputId": "0a7f4839-5129-4226-cb9a-5f1b0ed1b9ff",
        "colab": {
          "base_uri": "https://localhost:8080/"
        }
      },
      "outputs": [
        {
          "output_type": "execute_result",
          "data": {
            "text/plain": [
              "==========================================================================================\n",
              "Layer (type:depth-idx)                   Output Shape              Param #\n",
              "==========================================================================================\n",
              "SimpleCNNClassifier                      [1, 10]                   --\n",
              "├─Sequential: 1-1                        [1, 128, 28, 28]          --\n",
              "│    └─Sequential: 2-1                   [1, 32, 28, 28]           --\n",
              "│    │    └─Conv2d: 3-1                  [1, 32, 28, 28]           320\n",
              "│    │    └─BatchNorm2d: 3-2             [1, 32, 28, 28]           64\n",
              "│    │    └─ReLU: 3-3                    [1, 32, 28, 28]           --\n",
              "│    └─Sequential: 2-2                   [1, 64, 28, 28]           --\n",
              "│    │    └─Conv2d: 3-4                  [1, 64, 28, 28]           18,496\n",
              "│    │    └─BatchNorm2d: 3-5             [1, 64, 28, 28]           128\n",
              "│    │    └─ReLU: 3-6                    [1, 64, 28, 28]           --\n",
              "│    └─Sequential: 2-3                   [1, 128, 28, 28]          --\n",
              "│    │    └─Conv2d: 3-7                  [1, 128, 28, 28]          73,856\n",
              "│    │    └─BatchNorm2d: 3-8             [1, 128, 28, 28]          256\n",
              "│    │    └─ReLU: 3-9                    [1, 128, 28, 28]          --\n",
              "├─Sequential: 1-2                        [1, 10]                   --\n",
              "│    └─Linear: 2-4                       [1, 1024]                 102,761,472\n",
              "│    └─Sigmoid: 2-5                      [1, 1024]                 --\n",
              "│    └─Linear: 2-6                       [1, 10]                   10,250\n",
              "==========================================================================================\n",
              "Total params: 102,864,842\n",
              "Trainable params: 102,864,842\n",
              "Non-trainable params: 0\n",
              "Total mult-adds (Units.MEGABYTES): 175.43\n",
              "==========================================================================================\n",
              "Input size (MB): 0.00\n",
              "Forward/backward pass size (MB): 2.82\n",
              "Params size (MB): 411.46\n",
              "Estimated Total Size (MB): 414.28\n",
              "=========================================================================================="
            ]
          },
          "metadata": {},
          "execution_count": 13
        }
      ],
      "source": [
        "class SimpleCNNClassifier(nn.Module):\n",
        "    def __init__(self, in_c, enc_sizes, n_classes):\n",
        "        super().__init__()\n",
        "        self.enc_sizes = [in_c, *enc_sizes]\n",
        "\n",
        "        conv_blocks = [conv_block(in_f, out_f, kernel_size=3, padding=1)\n",
        "                       for in_f, out_f in zip(self.enc_sizes, self.enc_sizes[1:])]\n",
        "\n",
        "        self.encoder = nn.Sequential(*conv_blocks)\n",
        "\n",
        "\n",
        "        self.decoder = nn.Sequential(\n",
        "            nn.Linear(self.enc_sizes[-1] * 28 * 28, 1024),\n",
        "            nn.Sigmoid(),\n",
        "            nn.Linear(1024, n_classes)\n",
        "        )\n",
        "\n",
        "\n",
        "    def forward(self, x):\n",
        "        x = self.encoder(x)\n",
        "        x = x.view(x.size(0), -1) # flat\n",
        "        x = self.decoder(x)\n",
        "        return x\n",
        "\n",
        "# Summary\n",
        "summary(SimpleCNNClassifier(in_c=1, enc_sizes=[32, 64, 128], n_classes=10), input_size=(1, 1, 28, 28))"
      ]
    },
    {
      "cell_type": "markdown",
      "metadata": {
        "id": "rlel1dgbKzAe"
      },
      "source": [
        "We can do the same for the decoder part!"
      ]
    },
    {
      "cell_type": "code",
      "execution_count": null,
      "metadata": {
        "id": "ULsaoXudKzAf",
        "outputId": "15bb4a4a-5232-452c-f47a-776403d32daa",
        "colab": {
          "base_uri": "https://localhost:8080/"
        }
      },
      "outputs": [
        {
          "output_type": "execute_result",
          "data": {
            "text/plain": [
              "==========================================================================================\n",
              "Layer (type:depth-idx)                   Output Shape              Param #\n",
              "==========================================================================================\n",
              "SimpleCNNClassifier                      [1, 10]                   --\n",
              "├─Sequential: 1-1                        [1, 128, 28, 28]          --\n",
              "│    └─Sequential: 2-1                   [1, 32, 28, 28]           --\n",
              "│    │    └─Conv2d: 3-1                  [1, 32, 28, 28]           320\n",
              "│    │    └─BatchNorm2d: 3-2             [1, 32, 28, 28]           64\n",
              "│    │    └─ReLU: 3-3                    [1, 32, 28, 28]           --\n",
              "│    └─Sequential: 2-2                   [1, 64, 28, 28]           --\n",
              "│    │    └─Conv2d: 3-4                  [1, 64, 28, 28]           18,496\n",
              "│    │    └─BatchNorm2d: 3-5             [1, 64, 28, 28]           128\n",
              "│    │    └─ReLU: 3-6                    [1, 64, 28, 28]           --\n",
              "│    └─Sequential: 2-3                   [1, 128, 28, 28]          --\n",
              "│    │    └─Conv2d: 3-7                  [1, 128, 28, 28]          73,856\n",
              "│    │    └─BatchNorm2d: 3-8             [1, 128, 28, 28]          256\n",
              "│    │    └─ReLU: 3-9                    [1, 128, 28, 28]          --\n",
              "├─Sequential: 1-2                        [1, 512]                  --\n",
              "│    └─Sequential: 2-4                   [1, 1024]                 --\n",
              "│    │    └─Linear: 3-10                 [1, 1024]                 102,761,472\n",
              "│    │    └─Sigmoid: 3-11                [1, 1024]                 --\n",
              "│    └─Sequential: 2-5                   [1, 512]                  --\n",
              "│    │    └─Linear: 3-12                 [1, 512]                  524,800\n",
              "│    │    └─Sigmoid: 3-13                [1, 512]                  --\n",
              "├─Linear: 1-3                            [1, 10]                   5,130\n",
              "==========================================================================================\n",
              "Total params: 103,384,522\n",
              "Trainable params: 103,384,522\n",
              "Non-trainable params: 0\n",
              "Total mult-adds (Units.MEGABYTES): 175.95\n",
              "==========================================================================================\n",
              "Input size (MB): 0.00\n",
              "Forward/backward pass size (MB): 2.82\n",
              "Params size (MB): 413.54\n",
              "Estimated Total Size (MB): 416.36\n",
              "=========================================================================================="
            ]
          },
          "metadata": {},
          "execution_count": 14
        }
      ],
      "source": [
        "def dec_block(in_f, out_f):\n",
        "    return nn.Sequential(\n",
        "        nn.Linear(in_f, out_f),\n",
        "        nn.Sigmoid()\n",
        "    )\n",
        "\n",
        "class SimpleCNNClassifier(nn.Module):\n",
        "    def __init__(self, in_c, enc_sizes, dec_sizes,  n_classes):\n",
        "        super().__init__()\n",
        "        self.enc_sizes = [in_c, *enc_sizes]\n",
        "        self.dec_sizes = [enc_sizes[-1] * 28 * 28, *dec_sizes]\n",
        "\n",
        "        conv_blocks = [conv_block(in_f, out_f, kernel_size=3, padding=1)\n",
        "                       for in_f, out_f in zip(self.enc_sizes, self.enc_sizes[1:])]\n",
        "\n",
        "        self.encoder = nn.Sequential(*conv_blocks)\n",
        "\n",
        "        dec_blocks = [dec_block(in_f, out_f)\n",
        "                       for in_f, out_f in zip(self.dec_sizes, self.dec_sizes[1:])]\n",
        "\n",
        "        self.decoder = nn.Sequential(*dec_blocks)\n",
        "        self.last = nn.Linear(self.dec_sizes[-1], n_classes)\n",
        "\n",
        "\n",
        "    def forward(self, x):\n",
        "        x = self.encoder(x)\n",
        "        x = x.view(x.size(0), -1) # flat\n",
        "        x = self.decoder(x)\n",
        "        x = self.last(x)\n",
        "        return x\n",
        "\n",
        "# Summary\n",
        "summary(SimpleCNNClassifier(in_c=1, enc_sizes=[32, 64, 128], dec_sizes=[1024, 512], n_classes=10), input_size=(1, 1, 28, 28))"
      ]
    },
    {
      "cell_type": "markdown",
      "metadata": {
        "id": "socXZvZUKzAf"
      },
      "source": [
        "We can make things even more modular by splitting the encoder and decoder into separate classes!"
      ]
    },
    {
      "cell_type": "code",
      "execution_count": null,
      "metadata": {
        "id": "W5KTaakgKzAf",
        "outputId": "5ef3cde2-12fd-4c32-f098-967853b8fdde",
        "colab": {
          "base_uri": "https://localhost:8080/"
        }
      },
      "outputs": [
        {
          "output_type": "execute_result",
          "data": {
            "text/plain": [
              "==========================================================================================\n",
              "Layer (type:depth-idx)                   Output Shape              Param #\n",
              "==========================================================================================\n",
              "SimpleCNNClassifier                      [1, 10]                   --\n",
              "├─SimpleEncoder: 1-1                     [1, 128, 28, 28]          --\n",
              "│    └─Sequential: 2-1                   [1, 128, 28, 28]          --\n",
              "│    │    └─Sequential: 3-1              [1, 32, 28, 28]           384\n",
              "│    │    └─Sequential: 3-2              [1, 64, 28, 28]           18,624\n",
              "│    │    └─Sequential: 3-3              [1, 128, 28, 28]          74,112\n",
              "├─SimpleDecoder: 1-2                     [1, 10]                   --\n",
              "│    └─Sequential: 2-2                   [1, 512]                  --\n",
              "│    │    └─Sequential: 3-4              [1, 1024]                 102,761,472\n",
              "│    │    └─Sequential: 3-5              [1, 512]                  524,800\n",
              "│    └─Linear: 2-3                       [1, 10]                   5,130\n",
              "==========================================================================================\n",
              "Total params: 103,384,522\n",
              "Trainable params: 103,384,522\n",
              "Non-trainable params: 0\n",
              "Total mult-adds (Units.MEGABYTES): 175.95\n",
              "==========================================================================================\n",
              "Input size (MB): 0.00\n",
              "Forward/backward pass size (MB): 2.82\n",
              "Params size (MB): 413.54\n",
              "Estimated Total Size (MB): 416.36\n",
              "=========================================================================================="
            ]
          },
          "metadata": {},
          "execution_count": 15
        }
      ],
      "source": [
        "class SimpleEncoder(nn.Module):\n",
        "    def __init__(self, enc_sizes):\n",
        "        super().__init__()\n",
        "        self.conv_blocks = nn.Sequential(*[conv_block(in_f, out_f, kernel_size=3, padding=1)\n",
        "                       for in_f, out_f in zip(enc_sizes, enc_sizes[1:])])\n",
        "\n",
        "    def forward(self, x):\n",
        "        return self.conv_blocks(x)\n",
        "\n",
        "class SimpleDecoder(nn.Module):\n",
        "    def __init__(self, dec_sizes, n_classes):\n",
        "        super().__init__()\n",
        "        self.dec_blocks = nn.Sequential(*[dec_block(in_f, out_f)\n",
        "                       for in_f, out_f in zip(dec_sizes, dec_sizes[1:])])\n",
        "        self.last = nn.Linear(dec_sizes[-1], n_classes)\n",
        "\n",
        "    def forward(self, x):\n",
        "        x = self.dec_blocks(x)\n",
        "        x = self.last(x)\n",
        "        return x\n",
        "\n",
        "\n",
        "class SimpleCNNClassifier(nn.Module):\n",
        "    def __init__(self, in_c, enc_sizes, dec_sizes,  n_classes):\n",
        "        super().__init__()\n",
        "        self.enc_sizes = [in_c, *enc_sizes]\n",
        "        self.dec_sizes = [self.enc_sizes[-1] * 28 * 28, *dec_sizes]\n",
        "\n",
        "        self.encoder = SimpleEncoder(self.enc_sizes)\n",
        "        self.decoder = SimpleDecoder(self.dec_sizes, n_classes)\n",
        "\n",
        "    def forward(self, x):\n",
        "        x = self.encoder(x)\n",
        "        x = x.flatten(1) # flat\n",
        "        x = self.decoder(x)\n",
        "        return x\n",
        "\n",
        "# Summary\n",
        "summary(SimpleCNNClassifier(in_c=1, enc_sizes=[32, 64, 128], dec_sizes=[1024, 512], n_classes=10), input_size=(1, 1, 28, 28))\n"
      ]
    },
    {
      "cell_type": "markdown",
      "metadata": {
        "id": "p6flte8pKzAg"
      },
      "source": [
        "By diving our module into submodules it is easier to share the code, debug it and test it."
      ]
    },
    {
      "cell_type": "markdown",
      "metadata": {
        "id": "IhYPiUNpKzAg"
      },
      "source": [
        "# `nn.ModuleList`: When we need to iterate!\n",
        "ModuleList allows you to store Module as a list. It can be useful when you need to iterate through layer and store/use some information,\n",
        "\n",
        "The main difference between Sequential is that ModuleList have not a forward method so the inner layers are not connected. Assuming we need each output of each layer in the decoder, we can store it by:"
      ]
    },
    {
      "cell_type": "code",
      "execution_count": null,
      "metadata": {
        "id": "9QrcpBmtKzAg",
        "outputId": "c7aa02ba-bf65-433e-adca-fa4320eb98fa",
        "colab": {
          "base_uri": "https://localhost:8080/"
        }
      },
      "outputs": [
        {
          "output_type": "stream",
          "name": "stdout",
          "text": [
            "torch.Size([4, 16])\n",
            "torch.Size([4, 32])\n"
          ]
        }
      ],
      "source": [
        "class SimpleModule(nn.Module):\n",
        "    def __init__(self, sizes):\n",
        "        super().__init__()\n",
        "        self.layers = nn.ModuleList([nn.Linear(in_f, out_f) for in_f, out_f in zip(sizes, sizes[1:])])\n",
        "        self.trace = []\n",
        "\n",
        "    def forward(self,x):\n",
        "        for layer in self.layers:\n",
        "            x = layer(x)\n",
        "            self.trace.append(x)\n",
        "        return x\n",
        "\n",
        "# Summary\n",
        "summary(SimpleModule([1, 16, 32]), input_size=(1, 1))\n",
        "\n",
        "# Example: Use for storing intermediate outputs/debugging\n",
        "model = SimpleModule([1, 16, 32])\n",
        "model(torch.rand((4,1)))\n",
        "\n",
        "for trace in model.trace:\n",
        "    print(trace.shape)\n"
      ]
    },
    {
      "cell_type": "markdown",
      "metadata": {
        "id": "ibOIS4UWKzAg"
      },
      "source": [
        "# `nn.ModuleDict`: When we need to choose!\n",
        "ModuleDict allows you to store Module as a dictionary. It can be useful when you need to choose a module based on some condition.\n",
        "What if we want to switch to LeakyReLU in our conv_block? We can use ModuleDict to create a dictionary of Module and dynamically switch Module when we want"
      ]
    },
    {
      "cell_type": "code",
      "execution_count": null,
      "metadata": {
        "id": "_Xjae3ibKzAg",
        "outputId": "63f8e6ee-d80a-4cb3-b9e3-28406eb0f3b6",
        "colab": {
          "base_uri": "https://localhost:8080/"
        }
      },
      "outputs": [
        {
          "output_type": "stream",
          "name": "stdout",
          "text": [
            "Sequential(\n",
            "  (0): Conv2d(1, 32, kernel_size=(3, 3), stride=(1, 1), padding=(1, 1))\n",
            "  (1): BatchNorm2d(32, eps=1e-05, momentum=0.1, affine=True, track_running_stats=True)\n",
            "  (2): LeakyReLU(negative_slope=0.01)\n",
            ")\n",
            "Sequential(\n",
            "  (0): Conv2d(1, 32, kernel_size=(3, 3), stride=(1, 1), padding=(1, 1))\n",
            "  (1): BatchNorm2d(32, eps=1e-05, momentum=0.1, affine=True, track_running_stats=True)\n",
            "  (2): ReLU()\n",
            ")\n"
          ]
        }
      ],
      "source": [
        "def conv_block(in_f, out_f, activation='relu', *args, **kwargs):\n",
        "\n",
        "    activations = nn.ModuleDict([\n",
        "                ['lrelu', nn.LeakyReLU()],\n",
        "                ['relu', nn.ReLU()]\n",
        "    ])\n",
        "\n",
        "    return nn.Sequential(\n",
        "        nn.Conv2d(in_f, out_f, *args, **kwargs),\n",
        "        nn.BatchNorm2d(out_f),\n",
        "        activations[activation]\n",
        "    )\n",
        "\n",
        "# Summary\n",
        "print(conv_block(1, 32, kernel_size=3, padding=1, activation='lrelu'))\n",
        "print(conv_block(1, 32, kernel_size=3, padding=1, activation='relu'))\n",
        "\n"
      ]
    },
    {
      "cell_type": "markdown",
      "metadata": {
        "id": "mcHiWNcrKzAh"
      },
      "source": [
        "# Putting it all together!"
      ]
    },
    {
      "cell_type": "code",
      "execution_count": null,
      "metadata": {
        "id": "NpShqorbKzAh",
        "outputId": "40d54a18-a66c-47fa-9368-be1c204884f8",
        "colab": {
          "base_uri": "https://localhost:8080/"
        }
      },
      "outputs": [
        {
          "output_type": "execute_result",
          "data": {
            "text/plain": [
              "==========================================================================================\n",
              "Layer (type:depth-idx)                   Output Shape              Param #\n",
              "==========================================================================================\n",
              "MyCNNClassifier                          [1, 10]                   --\n",
              "├─MyEncoder: 1-1                         [1, 64, 28, 28]           --\n",
              "│    └─Sequential: 2-1                   [1, 64, 28, 28]           --\n",
              "│    │    └─Sequential: 3-1              [1, 32, 28, 28]           384\n",
              "│    │    └─Sequential: 3-2              [1, 64, 28, 28]           18,624\n",
              "├─MyDecoder: 1-2                         [1, 10]                   --\n",
              "│    └─Sequential: 2-2                   [1, 512]                  --\n",
              "│    │    └─Sequential: 3-3              [1, 1024]                 51,381,248\n",
              "│    │    └─Sequential: 3-4              [1, 512]                  524,800\n",
              "│    └─Linear: 2-3                       [1, 10]                   5,130\n",
              "==========================================================================================\n",
              "Total params: 51,930,186\n",
              "Trainable params: 51,930,186\n",
              "Non-trainable params: 0\n",
              "Total mult-adds (Units.MEGABYTES): 66.66\n",
              "==========================================================================================\n",
              "Input size (MB): 0.00\n",
              "Forward/backward pass size (MB): 1.22\n",
              "Params size (MB): 207.72\n",
              "Estimated Total Size (MB): 208.94\n",
              "=========================================================================================="
            ]
          },
          "metadata": {},
          "execution_count": 19
        }
      ],
      "source": [
        "def conv_block(in_f, out_f, activation='relu', *args, **kwargs):\n",
        "    activations = nn.ModuleDict([\n",
        "                ['lrelu', nn.LeakyReLU()],\n",
        "                ['relu', nn.ReLU()]\n",
        "    ])\n",
        "\n",
        "    return nn.Sequential(\n",
        "        nn.Conv2d(in_f, out_f, *args, **kwargs),\n",
        "        nn.BatchNorm2d(out_f),\n",
        "        activations[activation]\n",
        "    )\n",
        "\n",
        "def dec_block(in_f, out_f):\n",
        "    return nn.Sequential(\n",
        "        nn.Linear(in_f, out_f),\n",
        "        nn.Sigmoid()\n",
        "    )\n",
        "\n",
        "class MyEncoder(nn.Module):\n",
        "    def __init__(self, enc_sizes, *args, **kwargs):\n",
        "        super().__init__()\n",
        "        self.conv_blocks = nn.Sequential(*[conv_block(in_f, out_f, kernel_size=3, padding=1, *args, **kwargs)\n",
        "                       for in_f, out_f in zip(enc_sizes, enc_sizes[1:])])\n",
        "\n",
        "    def forward(self, x):\n",
        "        return self.conv_blocks(x)\n",
        "\n",
        "class MyDecoder(nn.Module):\n",
        "    def __init__(self, dec_sizes, n_classes):\n",
        "        super().__init__()\n",
        "        self.dec_blocks = nn.Sequential(*[dec_block(in_f, out_f)\n",
        "                       for in_f, out_f in zip(dec_sizes, dec_sizes[1:])])\n",
        "        self.last = nn.Linear(dec_sizes[-1], n_classes)\n",
        "\n",
        "    def forward(self, x):\n",
        "        x = self.dec_blocks(x)\n",
        "        x = self.last(x)\n",
        "        return x\n",
        "\n",
        "\n",
        "class MyCNNClassifier(nn.Module):\n",
        "    def __init__(self, in_c, enc_sizes, dec_sizes,  n_classes, activation='relu'):\n",
        "        super().__init__()\n",
        "        self.enc_sizes = [in_c, *enc_sizes]\n",
        "        self.dec_sizes = [self.enc_sizes[-1] * 28 * 28, *dec_sizes]\n",
        "\n",
        "        self.encoder = MyEncoder(self.enc_sizes, activation=activation)\n",
        "        self.decoder = MyDecoder(self.dec_sizes, n_classes)\n",
        "\n",
        "    def forward(self, x):\n",
        "        x = self.encoder(x)\n",
        "        x = x.flatten(1) # flat\n",
        "        x = self.decoder(x)\n",
        "        return x\n",
        "\n",
        "# Summary\n",
        "summary(MyCNNClassifier(in_c=1, enc_sizes=[32, 64], dec_sizes=[1024, 512], n_classes=10, activation='lrelu'), input_size=(1, 1, 28, 28))"
      ]
    },
    {
      "cell_type": "markdown",
      "metadata": {
        "id": "66rWlMHAKzAh"
      },
      "source": [
        "# Conclusion\n",
        "- In summary, we have seen how to create a modular neural network using `nn.Module`, `nn.Sequential`, `nn.ModuleList`, and `nn.ModuleDict`.\n",
        "- Use Module when you have a big block compose of multiple smaller blocks\n",
        "- Use Sequential when you want to create a small block from layers\n",
        "- Use ModuleList when you need to iterate through some layers or building blocks and do something\n",
        "- Use ModuleDict when you need to parametise some blocks of your model, for example an activation function\n",
        "\n",
        "For more information, you can check out the [official documentation](https://pytorch.org/docs/stable/nn.html#containers)\n"
      ]
    }
  ],
  "metadata": {
    "kernelspec": {
      "display_name": "base",
      "language": "python",
      "name": "python3"
    },
    "language_info": {
      "codemirror_mode": {
        "name": "ipython",
        "version": 3
      },
      "file_extension": ".py",
      "mimetype": "text/x-python",
      "name": "python",
      "nbconvert_exporter": "python",
      "pygments_lexer": "ipython3",
      "version": "3.12.4"
    },
    "colab": {
      "provenance": []
    }
  },
  "nbformat": 4,
  "nbformat_minor": 0
}